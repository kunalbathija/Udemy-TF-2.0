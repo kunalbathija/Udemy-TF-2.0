{
  "nbformat": 4,
  "nbformat_minor": 0,
  "metadata": {
    "colab": {
      "name": "Building My Own Model.ipynb",
      "provenance": [],
      "authorship_tag": "ABX9TyOlc0ukkGLxHPZa+rbO/a/c",
      "include_colab_link": true
    },
    "kernelspec": {
      "name": "python3",
      "display_name": "Python 3"
    }
  },
  "cells": [
    {
      "cell_type": "markdown",
      "metadata": {
        "id": "view-in-github",
        "colab_type": "text"
      },
      "source": [
        "<a href=\"https://colab.research.google.com/github/kunalbathija/Udemy-TF-2.0/blob/master/Building_My_Own_Model.ipynb\" target=\"_parent\"><img src=\"https://colab.research.google.com/assets/colab-badge.svg\" alt=\"Open In Colab\"/></a>"
      ]
    },
    {
      "cell_type": "code",
      "metadata": {
        "id": "UFpQ2vj3VpNj",
        "colab_type": "code",
        "colab": {}
      },
      "source": [
        "import tensorflow as tf\n",
        "import numpy as np\n",
        "import matplotlib.pyplot as plt"
      ],
      "execution_count": 0,
      "outputs": []
    },
    {
      "cell_type": "code",
      "metadata": {
        "id": "G_Za9DEIVrLM",
        "colab_type": "code",
        "colab": {}
      },
      "source": [
        "# Define linear regression model\n",
        "\n",
        "class LinearRegression(tf.keras.Model):\n",
        "  def __init__(self, num_inputs, num_outputs):\n",
        "    super(LinearRegression, self).__init__()\n",
        "    self.W = tf.Variable(\n",
        "        tf.random_normal_initializer()((num_inputs, num_outputs)))\n",
        "    self.b = tf.Variable(tf.zeros(num_outputs))\n",
        "    self.params = [self.W, self.b]\n",
        "\n",
        "  def call(self, inputs):\n",
        "    return tf.matmul(inputs, self.W) + self.b"
      ],
      "execution_count": 0,
      "outputs": []
    },
    {
      "cell_type": "code",
      "metadata": {
        "id": "28P7SKnRVrSC",
        "colab_type": "code",
        "colab": {}
      },
      "source": [
        "# Creating a dataset\n",
        "N = 100\n",
        "D = 1\n",
        "K = 1\n",
        "X = np.random.random((N, D)) * 2 - 1\n",
        "w = np.random.randn(D, K)\n",
        "b = np.random.randn()\n",
        "Y = X.dot(w) + b + np.random.randn(N, 1) * 0.1"
      ],
      "execution_count": 0,
      "outputs": []
    },
    {
      "cell_type": "code",
      "metadata": {
        "id": "__B0T7mbVrUK",
        "colab_type": "code",
        "colab": {
          "base_uri": "https://localhost:8080/",
          "height": 286
        },
        "outputId": "1c91cd36-964b-4552-8304-b7c2f16084b0"
      },
      "source": [
        "plt.scatter(X, Y)"
      ],
      "execution_count": 5,
      "outputs": [
        {
          "output_type": "execute_result",
          "data": {
            "text/plain": [
              "<matplotlib.collections.PathCollection at 0x7f02369eb2b0>"
            ]
          },
          "metadata": {
            "tags": []
          },
          "execution_count": 5
        },
        {
          "output_type": "display_data",
          "data": {
            "image/png": "[encoded data removed]",
            "text/plain": [
              "<Figure size 432x288 with 1 Axes>"
            ]
          },
          "metadata": {
            "tags": [],
            "needs_background": "light"
          }
        }
      ]
    },
    {
      "cell_type": "code",
      "metadata": {
        "id": "1EKuU-m4VrXO",
        "colab_type": "code",
        "colab": {}
      },
      "source": [
        "# Cast type, otherwise Tensorflow will complain\n",
        "\n",
        "X = X.astype(np.float32)\n",
        "Y = Y.astype(np.float32)"
      ],
      "execution_count": 0,
      "outputs": []
    },
    {
      "cell_type": "code",
      "metadata": {
        "id": "j8Ed3LDUVrQ9",
        "colab_type": "code",
        "colab": {}
      },
      "source": [
        "def get_loss(model, inputs, targets):\n",
        "  predictions = model(inputs)\n",
        "  error = targets - predictions\n",
        "  return tf.reduce_mean(tf.square(error))"
      ],
      "execution_count": 0,
      "outputs": []
    },
    {
      "cell_type": "code",
      "metadata": {
        "id": "zm-O6mGdVrP7",
        "colab_type": "code",
        "colab": {}
      },
      "source": [
        "def get_grad(model, inputs, targets):\n",
        "  with tf.GradientTape() as tape:\n",
        "    # calculate the loss\n",
        "    loss_value = get_loss(model, inputs, targets)\n",
        "  \n",
        "  # return gradient\n",
        "  return tape.gradient(loss_value, model.params)"
      ],
      "execution_count": 0,
      "outputs": []
    },
    {
      "cell_type": "code",
      "metadata": {
        "id": "mRLUGfueVrOe",
        "colab_type": "code",
        "colab": {
          "base_uri": "https://localhost:8080/",
          "height": 68
        },
        "outputId": "9b7cd7a8-be7c-4804-af52-20ae7275ff3a"
      },
      "source": [
        "# Create and train the model\n",
        "model = LinearRegression(D, K)\n",
        "\n",
        "# Print the params before training\n",
        "print(\"Initial params:\")\n",
        "print(model.W)\n",
        "print(model.b)"
      ],
      "execution_count": 9,
      "outputs": [
        {
          "output_type": "stream",
          "text": [
            "Initial params:\n",
            "<tf.Variable 'Variable:0' shape=(1, 1) dtype=float32, numpy=array([[0.00144231]], dtype=float32)>\n",
            "<tf.Variable 'Variable:0' shape=(1,) dtype=float32, numpy=array([0.], dtype=float32)>\n"
          ],
          "name": "stdout"
        }
      ]
    },
    {
      "cell_type": "code",
      "metadata": {
        "id": "9eTkdbkBW_YK",
        "colab_type": "code",
        "colab": {}
      },
      "source": [
        "# Store the losses here\n",
        "losses = []\n",
        "\n",
        "# Create an optimizer\n",
        "optimizer = tf.keras.optimizers.SGD(learning_rate=0.2)\n",
        "\n",
        "# Run the training loop\n",
        "for i in range(100):\n",
        "  # Get gradients\n",
        "  grads = get_grad(model, X, Y)\n",
        "  \n",
        "  # Do one step of gradient descent: param <- param - learning_rate * grad\n",
        "  optimizer.apply_gradients(zip(grads, model.params))\n",
        "  \n",
        "  # Store the loss\n",
        "  loss = get_loss(model, X, Y)\n",
        "  losses.append(loss)"
      ],
      "execution_count": 0,
      "outputs": []
    },
    {
      "cell_type": "code",
      "metadata": {
        "id": "9dxZgoMNXCMp",
        "colab_type": "code",
        "colab": {
          "base_uri": "https://localhost:8080/",
          "height": 282
        },
        "outputId": "671efebd-d224-4b2a-d76f-21aa7c09d501"
      },
      "source": [
        "plt.plot(losses)"
      ],
      "execution_count": 11,
      "outputs": [
        {
          "output_type": "execute_result",
          "data": {
            "text/plain": [
              "[<matplotlib.lines.Line2D at 0x7f022da50550>]"
            ]
          },
          "metadata": {
            "tags": []
          },
          "execution_count": 11
        },
        {
          "output_type": "display_data",
          "data": {
            "image/png": "[encoded data removed]",
            "text/plain": [
              "<Figure size 432x288 with 1 Axes>"
            ]
          },
          "metadata": {
            "tags": [],
            "needs_background": "light"
          }
        }
      ]
    },
    {
      "cell_type": "code",
      "metadata": {
        "id": "qrRcYWqYXExL",
        "colab_type": "code",
        "colab": {
          "base_uri": "https://localhost:8080/",
          "height": 286
        },
        "outputId": "73e6139c-ad31-4854-937f-e75ef9372a22"
      },
      "source": [
        "x_axis = np.linspace(X.min(), X.max(), 100)\n",
        "y_axis = model.predict(x_axis.reshape(-1, 1)).flatten()\n",
        "\n",
        "plt.scatter(X, Y)\n",
        "plt.plot(x_axis, y_axis)"
      ],
      "execution_count": 12,
      "outputs": [
        {
          "output_type": "execute_result",
          "data": {
            "text/plain": [
              "[<matplotlib.lines.Line2D at 0x7f022da12da0>]"
            ]
          },
          "metadata": {
            "tags": []
          },
          "execution_count": 12
        },
        {
          "output_type": "display_data",
          "data": {
            "image/png": "[encoded data removed]",
            "text/plain": [
              "<Figure size 432x288 with 1 Axes>"
            ]
          },
          "metadata": {
            "tags": [],
            "needs_background": "light"
          }
        }
      ]
    },
    {
      "cell_type": "code",
      "metadata": {
        "id": "gHSeeCrWXE1k",
        "colab_type": "code",
        "colab": {
          "base_uri": "https://localhost:8080/",
          "height": 68
        },
        "outputId": "92434100-aba5-449a-a5e1-aed2b156a306"
      },
      "source": [
        "print(\"Predicted params:\")\n",
        "print(model.W)\n",
        "print(model.b)"
      ],
      "execution_count": 13,
      "outputs": [
        {
          "output_type": "stream",
          "text": [
            "Predicted params:\n",
            "<tf.Variable 'Variable:0' shape=(1, 1) dtype=float32, numpy=array([[0.7983099]], dtype=float32)>\n",
            "<tf.Variable 'Variable:0' shape=(1,) dtype=float32, numpy=array([-0.02069485], dtype=float32)>\n"
          ],
          "name": "stdout"
        }
      ]
    },
    {
      "cell_type": "code",
      "metadata": {
        "id": "CuJ2rEiwXIpx",
        "colab_type": "code",
        "colab": {
          "base_uri": "https://localhost:8080/",
          "height": 51
        },
        "outputId": "f70972e8-4a93-4097-b382-33a1c227f3f8"
      },
      "source": [
        "print(\"True params:\")\n",
        "w, b"
      ],
      "execution_count": 14,
      "outputs": [
        {
          "output_type": "stream",
          "text": [
            "True params:\n"
          ],
          "name": "stdout"
        },
        {
          "output_type": "execute_result",
          "data": {
            "text/plain": [
              "(array([[0.82714316]]), -0.03361348198458491)"
            ]
          },
          "metadata": {
            "tags": []
          },
          "execution_count": 14
        }
      ]
    }
  ]
}