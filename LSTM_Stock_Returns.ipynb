{
  "nbformat": 4,
  "nbformat_minor": 0,
  "metadata": {
    "colab": {
      "name": "LSTM Stock Returns.ipynb",
      "provenance": [],
      "authorship_tag": "ABX9TyMFScEcoYSWbV7A5qmkcysi",
      "include_colab_link": true
    },
    "kernelspec": {
      "name": "python3",
      "display_name": "Python 3"
    }
  },
  "cells": [
    {
      "cell_type": "markdown",
      "metadata": {
        "id": "view-in-github",
        "colab_type": "text"
      },
      "source": [
        "<a href=\"https://colab.research.google.com/github/kunalbathija/Udemy-TF-2.0/blob/master/LSTM_Stock_Returns.ipynb\" target=\"_parent\"><img src=\"https://colab.research.google.com/assets/colab-badge.svg\" alt=\"Open In Colab\"/></a>"
      ]
    },
    {
      "cell_type": "code",
      "metadata": {
        "id": "qyy9tml37jjg",
        "colab_type": "code",
        "colab": {
          "base_uri": "https://localhost:8080/",
          "height": 34
        },
        "outputId": "d65997ff-113d-4e6d-bad2-56c52d6b706c"
      },
      "source": [
        "import tensorflow as tf\n",
        "print(tf.__version__)"
      ],
      "execution_count": 1,
      "outputs": [
        {
          "output_type": "stream",
          "text": [
            "2.2.0-rc4\n"
          ],
          "name": "stdout"
        }
      ]
    },
    {
      "cell_type": "code",
      "metadata": {
        "id": "HJd5oM7r7rMB",
        "colab_type": "code",
        "colab": {}
      },
      "source": [
        "from tensorflow.keras.layers import Input, LSTM, GRU, SimpleRNN, Dense, GlobalMaxPool1D\n",
        "from tensorflow.keras.models import Model\n",
        "from tensorflow.keras.optimizers import SGD, Adam\n",
        "\n",
        "import numpy as np\n",
        "import pandas as pd\n",
        "import matplotlib.pyplot as plt\n",
        "from sklearn.preprocessing import StandardScaler"
      ],
      "execution_count": 0,
      "outputs": []
    },
    {
      "cell_type": "code",
      "metadata": {
        "id": "a3onZ3xi7rQA",
        "colab_type": "code",
        "colab": {}
      },
      "source": [
        "# yes, you can read dataframes from URLs!\n",
        "df = pd.read_csv('https://raw.githubusercontent.com/lazyprogrammer/machine_learning_examples/master/tf2.0/sbux.csv')"
      ],
      "execution_count": 0,
      "outputs": []
    },
    {
      "cell_type": "code",
      "metadata": {
        "id": "ameok4IM7rTE",
        "colab_type": "code",
        "colab": {
          "base_uri": "https://localhost:8080/",
          "height": 204
        },
        "outputId": "eb2234d0-3636-4f47-8cc8-1d75ca81d4c4"
      },
      "source": [
        "df.head()"
      ],
      "execution_count": 4,
      "outputs": [
        {
          "output_type": "execute_result",
          "data": {
            "text/html": [
              "<div>\n",
              "<style scoped>\n",
              "    .dataframe tbody tr th:only-of-type {\n",
              "        vertical-align: middle;\n",
              "    }\n",
              "\n",
              "    .dataframe tbody tr th {\n",
              "        vertical-align: top;\n",
              "    }\n",
              "\n",
              "    .dataframe thead th {\n",
              "        text-align: right;\n",
              "    }\n",
              "</style>\n",
              "<table border=\"1\" class=\"dataframe\">\n",
              "  <thead>\n",
              "    <tr style=\"text-align: right;\">\n",
              "      <th></th>\n",
              "      <th>date</th>\n",
              "      <th>open</th>\n",
              "      <th>high</th>\n",
              "      <th>low</th>\n",
              "      <th>close</th>\n",
              "      <th>volume</th>\n",
              "      <th>Name</th>\n",
              "    </tr>\n",
              "  </thead>\n",
              "  <tbody>\n",
              "    <tr>\n",
              "      <th>0</th>\n",
              "      <td>2013-02-08</td>\n",
              "      <td>27.920</td>\n",
              "      <td>28.325</td>\n",
              "      <td>27.920</td>\n",
              "      <td>28.185</td>\n",
              "      <td>7146296</td>\n",
              "      <td>SBUX</td>\n",
              "    </tr>\n",
              "    <tr>\n",
              "      <th>1</th>\n",
              "      <td>2013-02-11</td>\n",
              "      <td>28.260</td>\n",
              "      <td>28.260</td>\n",
              "      <td>27.930</td>\n",
              "      <td>28.070</td>\n",
              "      <td>5457354</td>\n",
              "      <td>SBUX</td>\n",
              "    </tr>\n",
              "    <tr>\n",
              "      <th>2</th>\n",
              "      <td>2013-02-12</td>\n",
              "      <td>28.000</td>\n",
              "      <td>28.275</td>\n",
              "      <td>27.975</td>\n",
              "      <td>28.130</td>\n",
              "      <td>8665592</td>\n",
              "      <td>SBUX</td>\n",
              "    </tr>\n",
              "    <tr>\n",
              "      <th>3</th>\n",
              "      <td>2013-02-13</td>\n",
              "      <td>28.230</td>\n",
              "      <td>28.230</td>\n",
              "      <td>27.750</td>\n",
              "      <td>27.915</td>\n",
              "      <td>7022056</td>\n",
              "      <td>SBUX</td>\n",
              "    </tr>\n",
              "    <tr>\n",
              "      <th>4</th>\n",
              "      <td>2013-02-14</td>\n",
              "      <td>27.765</td>\n",
              "      <td>27.905</td>\n",
              "      <td>27.675</td>\n",
              "      <td>27.775</td>\n",
              "      <td>8899188</td>\n",
              "      <td>SBUX</td>\n",
              "    </tr>\n",
              "  </tbody>\n",
              "</table>\n",
              "</div>"
            ],
            "text/plain": [
              "         date    open    high     low   close   volume  Name\n",
              "0  2013-02-08  27.920  28.325  27.920  28.185  7146296  SBUX\n",
              "1  2013-02-11  28.260  28.260  27.930  28.070  5457354  SBUX\n",
              "2  2013-02-12  28.000  28.275  27.975  28.130  8665592  SBUX\n",
              "3  2013-02-13  28.230  28.230  27.750  27.915  7022056  SBUX\n",
              "4  2013-02-14  27.765  27.905  27.675  27.775  8899188  SBUX"
            ]
          },
          "metadata": {
            "tags": []
          },
          "execution_count": 4
        }
      ]
    },
    {
      "cell_type": "code",
      "metadata": {
        "id": "Sal34_K27rX5",
        "colab_type": "code",
        "colab": {
          "base_uri": "https://localhost:8080/",
          "height": 204
        },
        "outputId": "7ee22e43-0200-483c-d510-909de6734c8b"
      },
      "source": [
        "df.tail()"
      ],
      "execution_count": 5,
      "outputs": [
        {
          "output_type": "execute_result",
          "data": {
            "text/html": [
              "<div>\n",
              "<style scoped>\n",
              "    .dataframe tbody tr th:only-of-type {\n",
              "        vertical-align: middle;\n",
              "    }\n",
              "\n",
              "    .dataframe tbody tr th {\n",
              "        vertical-align: top;\n",
              "    }\n",
              "\n",
              "    .dataframe thead th {\n",
              "        text-align: right;\n",
              "    }\n",
              "</style>\n",
              "<table border=\"1\" class=\"dataframe\">\n",
              "  <thead>\n",
              "    <tr style=\"text-align: right;\">\n",
              "      <th></th>\n",
              "      <th>date</th>\n",
              "      <th>open</th>\n",
              "      <th>high</th>\n",
              "      <th>low</th>\n",
              "      <th>close</th>\n",
              "      <th>volume</th>\n",
              "      <th>Name</th>\n",
              "    </tr>\n",
              "  </thead>\n",
              "  <tbody>\n",
              "    <tr>\n",
              "      <th>1254</th>\n",
              "      <td>2018-02-01</td>\n",
              "      <td>56.280</td>\n",
              "      <td>56.42</td>\n",
              "      <td>55.89</td>\n",
              "      <td>56.00</td>\n",
              "      <td>14690146</td>\n",
              "      <td>SBUX</td>\n",
              "    </tr>\n",
              "    <tr>\n",
              "      <th>1255</th>\n",
              "      <td>2018-02-02</td>\n",
              "      <td>55.900</td>\n",
              "      <td>56.32</td>\n",
              "      <td>55.70</td>\n",
              "      <td>55.77</td>\n",
              "      <td>15358909</td>\n",
              "      <td>SBUX</td>\n",
              "    </tr>\n",
              "    <tr>\n",
              "      <th>1256</th>\n",
              "      <td>2018-02-05</td>\n",
              "      <td>55.530</td>\n",
              "      <td>56.26</td>\n",
              "      <td>54.57</td>\n",
              "      <td>54.69</td>\n",
              "      <td>16059955</td>\n",
              "      <td>SBUX</td>\n",
              "    </tr>\n",
              "    <tr>\n",
              "      <th>1257</th>\n",
              "      <td>2018-02-06</td>\n",
              "      <td>53.685</td>\n",
              "      <td>56.06</td>\n",
              "      <td>53.56</td>\n",
              "      <td>55.61</td>\n",
              "      <td>17415065</td>\n",
              "      <td>SBUX</td>\n",
              "    </tr>\n",
              "    <tr>\n",
              "      <th>1258</th>\n",
              "      <td>2018-02-07</td>\n",
              "      <td>55.080</td>\n",
              "      <td>55.43</td>\n",
              "      <td>54.44</td>\n",
              "      <td>54.46</td>\n",
              "      <td>13927022</td>\n",
              "      <td>SBUX</td>\n",
              "    </tr>\n",
              "  </tbody>\n",
              "</table>\n",
              "</div>"
            ],
            "text/plain": [
              "            date    open   high    low  close    volume  Name\n",
              "1254  2018-02-01  56.280  56.42  55.89  56.00  14690146  SBUX\n",
              "1255  2018-02-02  55.900  56.32  55.70  55.77  15358909  SBUX\n",
              "1256  2018-02-05  55.530  56.26  54.57  54.69  16059955  SBUX\n",
              "1257  2018-02-06  53.685  56.06  53.56  55.61  17415065  SBUX\n",
              "1258  2018-02-07  55.080  55.43  54.44  54.46  13927022  SBUX"
            ]
          },
          "metadata": {
            "tags": []
          },
          "execution_count": 5
        }
      ]
    },
    {
      "cell_type": "code",
      "metadata": {
        "id": "IBkjN7iw7rfC",
        "colab_type": "code",
        "colab": {
          "base_uri": "https://localhost:8080/",
          "height": 136
        },
        "outputId": "1ec93e3a-a955-48e4-fb79-a3c162bd39ce"
      },
      "source": [
        "#Trying to predict the price itself (which is wrong thing)\n",
        "series = df['close'].values.reshape(-1, 1)\n",
        "series"
      ],
      "execution_count": 11,
      "outputs": [
        {
          "output_type": "execute_result",
          "data": {
            "text/plain": [
              "array([[28.185],\n",
              "       [28.07 ],\n",
              "       [28.13 ],\n",
              "       ...,\n",
              "       [54.69 ],\n",
              "       [55.61 ],\n",
              "       [54.46 ]])"
            ]
          },
          "metadata": {
            "tags": []
          },
          "execution_count": 11
        }
      ]
    },
    {
      "cell_type": "code",
      "metadata": {
        "id": "k6U27ejr7rib",
        "colab_type": "code",
        "colab": {}
      },
      "source": [
        "# Normalize the data\n",
        "# Note: I didn't think about where the true boundary is, this is just approx.\n",
        "scaler = StandardScaler()\n",
        "scaler.fit(series[:len(series) // 2])\n",
        "series = scaler.transform(series).flatten()"
      ],
      "execution_count": 0,
      "outputs": []
    },
    {
      "cell_type": "code",
      "metadata": {
        "id": "ug_EiQ-N7rmX",
        "colab_type": "code",
        "colab": {
          "base_uri": "https://localhost:8080/",
          "height": 34
        },
        "outputId": "555b78c2-9cf6-4e5f-b29b-3b880a4774aa"
      },
      "source": [
        "### build the dataset\n",
        "# let's see if we can use T past values to predict the next value\n",
        "T = 10\n",
        "D = 1\n",
        "X = []\n",
        "Y = []\n",
        "for t in range(len(series) - T):\n",
        "  x = series[t:t+T]\n",
        "  X.append(x)\n",
        "  y = series[t+T]\n",
        "  Y.append(y)\n",
        "\n",
        "X = np.array(X).reshape(-1, T, 1) # Now the data should be N x T x D\n",
        "Y = np.array(Y)\n",
        "N = len(X)\n",
        "print(\"X.shape\", X.shape, \"Y.shape\", Y.shape)"
      ],
      "execution_count": 13,
      "outputs": [
        {
          "output_type": "stream",
          "text": [
            "X.shape (1249, 10, 1) Y.shape (1249,)\n"
          ],
          "name": "stdout"
        }
      ]
    },
    {
      "cell_type": "code",
      "metadata": {
        "id": "2CR9oHrr7rqq",
        "colab_type": "code",
        "colab": {
          "base_uri": "https://localhost:8080/",
          "height": 1000
        },
        "outputId": "68df9f3f-e71c-4f38-cadb-f3b54b9d8309"
      },
      "source": [
        "### try autoregressive RNN model\n",
        "i = Input(shape=(T, 1))\n",
        "x = LSTM(5)(i)\n",
        "x = Dense(1)(x)\n",
        "model = Model(i, x)\n",
        "model.compile(\n",
        "  loss='mse',\n",
        "  optimizer=Adam(lr=0.1),\n",
        ")\n",
        "\n",
        "# train the RNN\n",
        "r = model.fit(\n",
        "  X[:-N//2], Y[:-N//2],\n",
        "  epochs=80,\n",
        "  validation_data=(X[-N//2:], Y[-N//2:]),\n",
        ")"
      ],
      "execution_count": 14,
      "outputs": [
        {
          "output_type": "stream",
          "text": [
            "Epoch 1/80\n",
            "20/20 [==============================] - 1s 26ms/step - loss: 0.1362 - val_loss: 0.0878\n",
            "Epoch 2/80\n",
            "20/20 [==============================] - 0s 7ms/step - loss: 0.0125 - val_loss: 0.0272\n",
            "Epoch 3/80\n",
            "20/20 [==============================] - 0s 7ms/step - loss: 0.0077 - val_loss: 0.0303\n",
            "Epoch 4/80\n",
            "20/20 [==============================] - 0s 7ms/step - loss: 0.0059 - val_loss: 0.0151\n",
            "Epoch 5/80\n",
            "20/20 [==============================] - 0s 7ms/step - loss: 0.0066 - val_loss: 0.0224\n",
            "Epoch 6/80\n",
            "20/20 [==============================] - 0s 7ms/step - loss: 0.0058 - val_loss: 0.0174\n",
            "Epoch 7/80\n",
            "20/20 [==============================] - 0s 7ms/step - loss: 0.0056 - val_loss: 0.0148\n",
            "Epoch 8/80\n",
            "20/20 [==============================] - 0s 7ms/step - loss: 0.0067 - val_loss: 0.0177\n",
            "Epoch 9/80\n",
            "20/20 [==============================] - 0s 6ms/step - loss: 0.0073 - val_loss: 0.0320\n",
            "Epoch 10/80\n",
            "20/20 [==============================] - 0s 7ms/step - loss: 0.0065 - val_loss: 0.0338\n",
            "Epoch 11/80\n",
            "20/20 [==============================] - 0s 7ms/step - loss: 0.0063 - val_loss: 0.0147\n",
            "Epoch 12/80\n",
            "20/20 [==============================] - 0s 7ms/step - loss: 0.0064 - val_loss: 0.0143\n",
            "Epoch 13/80\n",
            "20/20 [==============================] - 0s 7ms/step - loss: 0.0053 - val_loss: 0.0178\n",
            "Epoch 14/80\n",
            "20/20 [==============================] - 0s 7ms/step - loss: 0.0063 - val_loss: 0.0288\n",
            "Epoch 15/80\n",
            "20/20 [==============================] - 0s 7ms/step - loss: 0.0086 - val_loss: 0.0697\n",
            "Epoch 16/80\n",
            "20/20 [==============================] - 0s 7ms/step - loss: 0.0076 - val_loss: 0.0206\n",
            "Epoch 17/80\n",
            "20/20 [==============================] - 0s 7ms/step - loss: 0.0073 - val_loss: 0.0150\n",
            "Epoch 18/80\n",
            "20/20 [==============================] - 0s 7ms/step - loss: 0.0071 - val_loss: 0.0190\n",
            "Epoch 19/80\n",
            "20/20 [==============================] - 0s 7ms/step - loss: 0.0061 - val_loss: 0.0195\n",
            "Epoch 20/80\n",
            "20/20 [==============================] - 0s 7ms/step - loss: 0.0056 - val_loss: 0.0636\n",
            "Epoch 21/80\n",
            "20/20 [==============================] - 0s 7ms/step - loss: 0.0061 - val_loss: 0.0183\n",
            "Epoch 22/80\n",
            "20/20 [==============================] - 0s 7ms/step - loss: 0.0059 - val_loss: 0.0238\n",
            "Epoch 23/80\n",
            "20/20 [==============================] - 0s 7ms/step - loss: 0.0070 - val_loss: 0.0306\n",
            "Epoch 24/80\n",
            "20/20 [==============================] - 0s 7ms/step - loss: 0.0092 - val_loss: 0.0151\n",
            "Epoch 25/80\n",
            "20/20 [==============================] - 0s 7ms/step - loss: 0.0066 - val_loss: 0.0239\n",
            "Epoch 26/80\n",
            "20/20 [==============================] - 0s 7ms/step - loss: 0.0053 - val_loss: 0.0408\n",
            "Epoch 27/80\n",
            "20/20 [==============================] - 0s 7ms/step - loss: 0.0063 - val_loss: 0.0249\n",
            "Epoch 28/80\n",
            "20/20 [==============================] - 0s 7ms/step - loss: 0.0084 - val_loss: 0.0524\n",
            "Epoch 29/80\n",
            "20/20 [==============================] - 0s 7ms/step - loss: 0.0083 - val_loss: 0.0287\n",
            "Epoch 30/80\n",
            "20/20 [==============================] - 0s 7ms/step - loss: 0.0065 - val_loss: 0.0211\n",
            "Epoch 31/80\n",
            "20/20 [==============================] - 0s 7ms/step - loss: 0.0064 - val_loss: 0.0156\n",
            "Epoch 32/80\n",
            "20/20 [==============================] - 0s 7ms/step - loss: 0.0069 - val_loss: 0.0157\n",
            "Epoch 33/80\n",
            "20/20 [==============================] - 0s 7ms/step - loss: 0.0055 - val_loss: 0.0282\n",
            "Epoch 34/80\n",
            "20/20 [==============================] - 0s 7ms/step - loss: 0.0052 - val_loss: 0.0187\n",
            "Epoch 35/80\n",
            "20/20 [==============================] - 0s 7ms/step - loss: 0.0064 - val_loss: 0.0155\n",
            "Epoch 36/80\n",
            "20/20 [==============================] - 0s 7ms/step - loss: 0.0057 - val_loss: 0.0203\n",
            "Epoch 37/80\n",
            "20/20 [==============================] - 0s 7ms/step - loss: 0.0059 - val_loss: 0.0212\n",
            "Epoch 38/80\n",
            "20/20 [==============================] - 0s 7ms/step - loss: 0.0081 - val_loss: 0.0314\n",
            "Epoch 39/80\n",
            "20/20 [==============================] - 0s 7ms/step - loss: 0.0082 - val_loss: 0.0140\n",
            "Epoch 40/80\n",
            "20/20 [==============================] - 0s 7ms/step - loss: 0.0067 - val_loss: 0.0134\n",
            "Epoch 41/80\n",
            "20/20 [==============================] - 0s 7ms/step - loss: 0.0101 - val_loss: 0.0478\n",
            "Epoch 42/80\n",
            "20/20 [==============================] - 0s 7ms/step - loss: 0.0077 - val_loss: 0.0264\n",
            "Epoch 43/80\n",
            "20/20 [==============================] - 0s 7ms/step - loss: 0.0074 - val_loss: 0.0188\n",
            "Epoch 44/80\n",
            "20/20 [==============================] - 0s 7ms/step - loss: 0.0059 - val_loss: 0.0182\n",
            "Epoch 45/80\n",
            "20/20 [==============================] - 0s 7ms/step - loss: 0.0053 - val_loss: 0.0160\n",
            "Epoch 46/80\n",
            "20/20 [==============================] - 0s 7ms/step - loss: 0.0055 - val_loss: 0.0140\n",
            "Epoch 47/80\n",
            "20/20 [==============================] - 0s 7ms/step - loss: 0.0063 - val_loss: 0.0197\n",
            "Epoch 48/80\n",
            "20/20 [==============================] - 0s 7ms/step - loss: 0.0058 - val_loss: 0.0182\n",
            "Epoch 49/80\n",
            "20/20 [==============================] - 0s 7ms/step - loss: 0.0055 - val_loss: 0.0164\n",
            "Epoch 50/80\n",
            "20/20 [==============================] - 0s 7ms/step - loss: 0.0050 - val_loss: 0.0218\n",
            "Epoch 51/80\n",
            "20/20 [==============================] - 0s 7ms/step - loss: 0.0065 - val_loss: 0.0225\n",
            "Epoch 52/80\n",
            "20/20 [==============================] - 0s 7ms/step - loss: 0.0058 - val_loss: 0.0407\n",
            "Epoch 53/80\n",
            "20/20 [==============================] - 0s 7ms/step - loss: 0.0060 - val_loss: 0.0141\n",
            "Epoch 54/80\n",
            "20/20 [==============================] - 0s 7ms/step - loss: 0.0053 - val_loss: 0.0141\n",
            "Epoch 55/80\n",
            "20/20 [==============================] - 0s 6ms/step - loss: 0.0054 - val_loss: 0.0159\n",
            "Epoch 56/80\n",
            "20/20 [==============================] - 0s 7ms/step - loss: 0.0075 - val_loss: 0.0253\n",
            "Epoch 57/80\n",
            "20/20 [==============================] - 0s 7ms/step - loss: 0.0074 - val_loss: 0.0436\n",
            "Epoch 58/80\n",
            "20/20 [==============================] - 0s 7ms/step - loss: 0.0058 - val_loss: 0.0171\n",
            "Epoch 59/80\n",
            "20/20 [==============================] - 0s 7ms/step - loss: 0.0053 - val_loss: 0.0272\n",
            "Epoch 60/80\n",
            "20/20 [==============================] - 0s 7ms/step - loss: 0.0061 - val_loss: 0.0150\n",
            "Epoch 61/80\n",
            "20/20 [==============================] - 0s 7ms/step - loss: 0.0058 - val_loss: 0.0199\n",
            "Epoch 62/80\n",
            "20/20 [==============================] - 0s 7ms/step - loss: 0.0056 - val_loss: 0.0156\n",
            "Epoch 63/80\n",
            "20/20 [==============================] - 0s 7ms/step - loss: 0.0059 - val_loss: 0.0321\n",
            "Epoch 64/80\n",
            "20/20 [==============================] - 0s 7ms/step - loss: 0.0053 - val_loss: 0.0254\n",
            "Epoch 65/80\n",
            "20/20 [==============================] - 0s 6ms/step - loss: 0.0067 - val_loss: 0.0145\n",
            "Epoch 66/80\n",
            "20/20 [==============================] - 0s 6ms/step - loss: 0.0062 - val_loss: 0.0124\n",
            "Epoch 67/80\n",
            "20/20 [==============================] - 0s 7ms/step - loss: 0.0064 - val_loss: 0.0142\n",
            "Epoch 68/80\n",
            "20/20 [==============================] - 0s 6ms/step - loss: 0.0072 - val_loss: 0.0395\n",
            "Epoch 69/80\n",
            "20/20 [==============================] - 0s 7ms/step - loss: 0.0079 - val_loss: 0.0137\n",
            "Epoch 70/80\n",
            "20/20 [==============================] - 0s 7ms/step - loss: 0.0057 - val_loss: 0.0342\n",
            "Epoch 71/80\n",
            "20/20 [==============================] - 0s 7ms/step - loss: 0.0058 - val_loss: 0.0165\n",
            "Epoch 72/80\n",
            "20/20 [==============================] - 0s 7ms/step - loss: 0.0056 - val_loss: 0.0140\n",
            "Epoch 73/80\n",
            "20/20 [==============================] - 0s 7ms/step - loss: 0.0052 - val_loss: 0.0330\n",
            "Epoch 74/80\n",
            "20/20 [==============================] - 0s 7ms/step - loss: 0.0063 - val_loss: 0.0208\n",
            "Epoch 75/80\n",
            "20/20 [==============================] - 0s 6ms/step - loss: 0.0053 - val_loss: 0.0141\n",
            "Epoch 76/80\n",
            "20/20 [==============================] - 0s 6ms/step - loss: 0.0057 - val_loss: 0.0156\n",
            "Epoch 77/80\n",
            "20/20 [==============================] - 0s 7ms/step - loss: 0.0055 - val_loss: 0.0143\n",
            "Epoch 78/80\n",
            "20/20 [==============================] - 0s 7ms/step - loss: 0.0051 - val_loss: 0.0178\n",
            "Epoch 79/80\n",
            "20/20 [==============================] - 0s 7ms/step - loss: 0.0053 - val_loss: 0.0140\n",
            "Epoch 80/80\n",
            "20/20 [==============================] - 0s 6ms/step - loss: 0.0057 - val_loss: 0.0139\n"
          ],
          "name": "stdout"
        }
      ]
    },
    {
      "cell_type": "code",
      "metadata": {
        "id": "4spziDF27scn",
        "colab_type": "code",
        "colab": {
          "base_uri": "https://localhost:8080/",
          "height": 282
        },
        "outputId": "9eede8b1-964d-4503-8294-953c41da3852"
      },
      "source": [
        "import matplotlib.pyplot as plt\n",
        "plt.plot(r.history['loss'], label='loss')\n",
        "plt.plot(r.history['val_loss'], label='val_loss')\n",
        "plt.legend()"
      ],
      "execution_count": 15,
      "outputs": [
        {
          "output_type": "execute_result",
          "data": {
            "text/plain": [
              "<matplotlib.legend.Legend at 0x7f35b1aad278>"
            ]
          },
          "metadata": {
            "tags": []
          },
          "execution_count": 15
        },
        {
          "output_type": "display_data",
          "data": {
            "image/png": "[encoded data removed]",
            "text/plain": [
              "<Figure size 432x288 with 1 Axes>"
            ]
          },
          "metadata": {
            "tags": [],
            "needs_background": "light"
          }
        }
      ]
    },
    {
      "cell_type": "code",
      "metadata": {
        "id": "nFRyJnBG7shH",
        "colab_type": "code",
        "colab": {
          "base_uri": "https://localhost:8080/",
          "height": 282
        },
        "outputId": "ed40708e-cca8-4dce-fff2-1ebf3d64a9ba"
      },
      "source": [
        "# One-step forecast using true targets\n",
        "outputs = model.predict(X)\n",
        "print(outputs.shape)\n",
        "predictions = outputs[:,0]\n",
        "\n",
        "plt.plot(Y, label='targets')\n",
        "plt.plot(predictions, label='predictions')\n",
        "plt.legend()\n",
        "plt.show()"
      ],
      "execution_count": 16,
      "outputs": [
        {
          "output_type": "stream",
          "text": [
            "(1249, 1)\n"
          ],
          "name": "stdout"
        },
        {
          "output_type": "display_data",
          "data": {
            "image/png": "[encoded data removed]",
            "text/plain": [
              "<Figure size 432x288 with 1 Axes>"
            ]
          },
          "metadata": {
            "tags": [],
            "needs_background": "light"
          }
        }
      ]
    },
    {
      "cell_type": "code",
      "metadata": {
        "id": "-_HU1xqK7sm4",
        "colab_type": "code",
        "colab": {
          "base_uri": "https://localhost:8080/",
          "height": 282
        },
        "outputId": "dbb621ac-cfc6-4842-d286-02f4d2eb8642"
      },
      "source": [
        "# Multi-step forecast\n",
        "validation_target = Y[-N//2:]\n",
        "validation_predictions = []\n",
        "\n",
        "# first validation input\n",
        "last_x = X[-N//2] # 1-D array of length T\n",
        "\n",
        "while len(validation_predictions) < len(validation_target):\n",
        "  p = model.predict(last_x.reshape(1, T, 1))[0,0] # 1x1 array -> scalar\n",
        "  \n",
        "  # update the predictions list\n",
        "  validation_predictions.append(p)\n",
        "  \n",
        "  # make the new input\n",
        "  last_x = np.roll(last_x, -1)\n",
        "  last_x[-1] = p\n",
        "\n",
        "plt.plot(validation_target, label='forecast target')\n",
        "plt.plot(validation_predictions, label='forecast prediction')\n",
        "plt.legend()"
      ],
      "execution_count": 17,
      "outputs": [
        {
          "output_type": "execute_result",
          "data": {
            "text/plain": [
              "<matplotlib.legend.Legend at 0x7f35b65f0400>"
            ]
          },
          "metadata": {
            "tags": []
          },
          "execution_count": 17
        },
        {
          "output_type": "display_data",
          "data": {
            "image/png": "[encoded data removed]",
            "text/plain": [
              "<Figure size 432x288 with 1 Axes>"
            ]
          },
          "metadata": {
            "tags": [],
            "needs_background": "light"
          }
        }
      ]
    },
    {
      "cell_type": "code",
      "metadata": {
        "id": "OYk2nvpn7s5G",
        "colab_type": "code",
        "colab": {}
      },
      "source": [
        "# calculate returns by first shifting the data\n",
        "df['PrevClose'] = df['close'].shift(1) # move everything up 1\n",
        "\n",
        "# so now it's like\n",
        "# close / prev close\n",
        "# x[2] x[1]\n",
        "# x[3] x[2]\n",
        "# x[4] x[3]\n",
        "# ...\n",
        "# x[t] x[t-1]"
      ],
      "execution_count": 0,
      "outputs": []
    },
    {
      "cell_type": "code",
      "metadata": {
        "id": "K_MAi3xe7tCU",
        "colab_type": "code",
        "colab": {
          "base_uri": "https://localhost:8080/",
          "height": 204
        },
        "outputId": "5ecefe21-592b-47e9-ed73-b38dcf549bba"
      },
      "source": [
        "df.head()"
      ],
      "execution_count": 19,
      "outputs": [
        {
          "output_type": "execute_result",
          "data": {
            "text/html": [
              "<div>\n",
              "<style scoped>\n",
              "    .dataframe tbody tr th:only-of-type {\n",
              "        vertical-align: middle;\n",
              "    }\n",
              "\n",
              "    .dataframe tbody tr th {\n",
              "        vertical-align: top;\n",
              "    }\n",
              "\n",
              "    .dataframe thead th {\n",
              "        text-align: right;\n",
              "    }\n",
              "</style>\n",
              "<table border=\"1\" class=\"dataframe\">\n",
              "  <thead>\n",
              "    <tr style=\"text-align: right;\">\n",
              "      <th></th>\n",
              "      <th>date</th>\n",
              "      <th>open</th>\n",
              "      <th>high</th>\n",
              "      <th>low</th>\n",
              "      <th>close</th>\n",
              "      <th>volume</th>\n",
              "      <th>Name</th>\n",
              "      <th>PrevClose</th>\n",
              "    </tr>\n",
              "  </thead>\n",
              "  <tbody>\n",
              "    <tr>\n",
              "      <th>0</th>\n",
              "      <td>2013-02-08</td>\n",
              "      <td>27.920</td>\n",
              "      <td>28.325</td>\n",
              "      <td>27.920</td>\n",
              "      <td>28.185</td>\n",
              "      <td>7146296</td>\n",
              "      <td>SBUX</td>\n",
              "      <td>NaN</td>\n",
              "    </tr>\n",
              "    <tr>\n",
              "      <th>1</th>\n",
              "      <td>2013-02-11</td>\n",
              "      <td>28.260</td>\n",
              "      <td>28.260</td>\n",
              "      <td>27.930</td>\n",
              "      <td>28.070</td>\n",
              "      <td>5457354</td>\n",
              "      <td>SBUX</td>\n",
              "      <td>28.185</td>\n",
              "    </tr>\n",
              "    <tr>\n",
              "      <th>2</th>\n",
              "      <td>2013-02-12</td>\n",
              "      <td>28.000</td>\n",
              "      <td>28.275</td>\n",
              "      <td>27.975</td>\n",
              "      <td>28.130</td>\n",
              "      <td>8665592</td>\n",
              "      <td>SBUX</td>\n",
              "      <td>28.070</td>\n",
              "    </tr>\n",
              "    <tr>\n",
              "      <th>3</th>\n",
              "      <td>2013-02-13</td>\n",
              "      <td>28.230</td>\n",
              "      <td>28.230</td>\n",
              "      <td>27.750</td>\n",
              "      <td>27.915</td>\n",
              "      <td>7022056</td>\n",
              "      <td>SBUX</td>\n",
              "      <td>28.130</td>\n",
              "    </tr>\n",
              "    <tr>\n",
              "      <th>4</th>\n",
              "      <td>2013-02-14</td>\n",
              "      <td>27.765</td>\n",
              "      <td>27.905</td>\n",
              "      <td>27.675</td>\n",
              "      <td>27.775</td>\n",
              "      <td>8899188</td>\n",
              "      <td>SBUX</td>\n",
              "      <td>27.915</td>\n",
              "    </tr>\n",
              "  </tbody>\n",
              "</table>\n",
              "</div>"
            ],
            "text/plain": [
              "         date    open    high     low   close   volume  Name  PrevClose\n",
              "0  2013-02-08  27.920  28.325  27.920  28.185  7146296  SBUX        NaN\n",
              "1  2013-02-11  28.260  28.260  27.930  28.070  5457354  SBUX     28.185\n",
              "2  2013-02-12  28.000  28.275  27.975  28.130  8665592  SBUX     28.070\n",
              "3  2013-02-13  28.230  28.230  27.750  27.915  7022056  SBUX     28.130\n",
              "4  2013-02-14  27.765  27.905  27.675  27.775  8899188  SBUX     27.915"
            ]
          },
          "metadata": {
            "tags": []
          },
          "execution_count": 19
        }
      ]
    },
    {
      "cell_type": "code",
      "metadata": {
        "id": "PxaQX6uv7tLj",
        "colab_type": "code",
        "colab": {}
      },
      "source": [
        "# then the return is\n",
        "# (x[t] - x[t-1]) / x[t-1]\n",
        "df['Return'] = (df['close'] - df['PrevClose']) / df['PrevClose']"
      ],
      "execution_count": 0,
      "outputs": []
    },
    {
      "cell_type": "code",
      "metadata": {
        "id": "TaKi3peN7tRs",
        "colab_type": "code",
        "colab": {
          "base_uri": "https://localhost:8080/",
          "height": 204
        },
        "outputId": "2abc5614-dc89-48e1-a9f9-7e65df69b2b2"
      },
      "source": [
        "df.head()"
      ],
      "execution_count": 21,
      "outputs": [
        {
          "output_type": "execute_result",
          "data": {
            "text/html": [
              "<div>\n",
              "<style scoped>\n",
              "    .dataframe tbody tr th:only-of-type {\n",
              "        vertical-align: middle;\n",
              "    }\n",
              "\n",
              "    .dataframe tbody tr th {\n",
              "        vertical-align: top;\n",
              "    }\n",
              "\n",
              "    .dataframe thead th {\n",
              "        text-align: right;\n",
              "    }\n",
              "</style>\n",
              "<table border=\"1\" class=\"dataframe\">\n",
              "  <thead>\n",
              "    <tr style=\"text-align: right;\">\n",
              "      <th></th>\n",
              "      <th>date</th>\n",
              "      <th>open</th>\n",
              "      <th>high</th>\n",
              "      <th>low</th>\n",
              "      <th>close</th>\n",
              "      <th>volume</th>\n",
              "      <th>Name</th>\n",
              "      <th>PrevClose</th>\n",
              "      <th>Return</th>\n",
              "    </tr>\n",
              "  </thead>\n",
              "  <tbody>\n",
              "    <tr>\n",
              "      <th>0</th>\n",
              "      <td>2013-02-08</td>\n",
              "      <td>27.920</td>\n",
              "      <td>28.325</td>\n",
              "      <td>27.920</td>\n",
              "      <td>28.185</td>\n",
              "      <td>7146296</td>\n",
              "      <td>SBUX</td>\n",
              "      <td>NaN</td>\n",
              "      <td>NaN</td>\n",
              "    </tr>\n",
              "    <tr>\n",
              "      <th>1</th>\n",
              "      <td>2013-02-11</td>\n",
              "      <td>28.260</td>\n",
              "      <td>28.260</td>\n",
              "      <td>27.930</td>\n",
              "      <td>28.070</td>\n",
              "      <td>5457354</td>\n",
              "      <td>SBUX</td>\n",
              "      <td>28.185</td>\n",
              "      <td>-0.004080</td>\n",
              "    </tr>\n",
              "    <tr>\n",
              "      <th>2</th>\n",
              "      <td>2013-02-12</td>\n",
              "      <td>28.000</td>\n",
              "      <td>28.275</td>\n",
              "      <td>27.975</td>\n",
              "      <td>28.130</td>\n",
              "      <td>8665592</td>\n",
              "      <td>SBUX</td>\n",
              "      <td>28.070</td>\n",
              "      <td>0.002138</td>\n",
              "    </tr>\n",
              "    <tr>\n",
              "      <th>3</th>\n",
              "      <td>2013-02-13</td>\n",
              "      <td>28.230</td>\n",
              "      <td>28.230</td>\n",
              "      <td>27.750</td>\n",
              "      <td>27.915</td>\n",
              "      <td>7022056</td>\n",
              "      <td>SBUX</td>\n",
              "      <td>28.130</td>\n",
              "      <td>-0.007643</td>\n",
              "    </tr>\n",
              "    <tr>\n",
              "      <th>4</th>\n",
              "      <td>2013-02-14</td>\n",
              "      <td>27.765</td>\n",
              "      <td>27.905</td>\n",
              "      <td>27.675</td>\n",
              "      <td>27.775</td>\n",
              "      <td>8899188</td>\n",
              "      <td>SBUX</td>\n",
              "      <td>27.915</td>\n",
              "      <td>-0.005015</td>\n",
              "    </tr>\n",
              "  </tbody>\n",
              "</table>\n",
              "</div>"
            ],
            "text/plain": [
              "         date    open    high     low  ...   volume  Name PrevClose    Return\n",
              "0  2013-02-08  27.920  28.325  27.920  ...  7146296  SBUX       NaN       NaN\n",
              "1  2013-02-11  28.260  28.260  27.930  ...  5457354  SBUX    28.185 -0.004080\n",
              "2  2013-02-12  28.000  28.275  27.975  ...  8665592  SBUX    28.070  0.002138\n",
              "3  2013-02-13  28.230  28.230  27.750  ...  7022056  SBUX    28.130 -0.007643\n",
              "4  2013-02-14  27.765  27.905  27.675  ...  8899188  SBUX    27.915 -0.005015\n",
              "\n",
              "[5 rows x 9 columns]"
            ]
          },
          "metadata": {
            "tags": []
          },
          "execution_count": 21
        }
      ]
    },
    {
      "cell_type": "code",
      "metadata": {
        "id": "WEJTwEUp7tPX",
        "colab_type": "code",
        "colab": {
          "base_uri": "https://localhost:8080/",
          "height": 282
        },
        "outputId": "3940b259-cf1e-47e4-bd0b-04ac495998bd"
      },
      "source": [
        "df['Return'].hist()"
      ],
      "execution_count": 25,
      "outputs": [
        {
          "output_type": "execute_result",
          "data": {
            "text/plain": [
              "<matplotlib.axes._subplots.AxesSubplot at 0x7f35b23af550>"
            ]
          },
          "metadata": {
            "tags": []
          },
          "execution_count": 25
        },
        {
          "output_type": "display_data",
          "data": {
            "image/png": "[encoded data removed]",
            "text/plain": [
              "<Figure size 432x288 with 1 Axes>"
            ]
          },
          "metadata": {
            "tags": [],
            "needs_background": "light"
          }
        }
      ]
    },
    {
      "cell_type": "code",
      "metadata": {
        "id": "QrO2bx017tJ_",
        "colab_type": "code",
        "colab": {}
      },
      "source": [
        "series = df['Return'].values[1:].reshape(-1, 1)\n",
        "\n",
        "# Normalize the data\n",
        "# Note: I didn't think about where the true boundary is, this is just approx.\n",
        "scaler = StandardScaler()\n",
        "scaler.fit(series[:len(series) // 2])\n",
        "series = scaler.transform(series).flatten()"
      ],
      "execution_count": 0,
      "outputs": []
    },
    {
      "cell_type": "code",
      "metadata": {
        "id": "1Y8QeYPu7tIM",
        "colab_type": "code",
        "colab": {
          "base_uri": "https://localhost:8080/",
          "height": 34
        },
        "outputId": "2700f04c-4149-4486-b8be-777b5e5fa187"
      },
      "source": [
        "### build the dataset\n",
        "# let's see if we can use T past values to predict the next value\n",
        "T = 10\n",
        "D = 1\n",
        "X = []\n",
        "Y = []\n",
        "for t in range(len(series) - T):\n",
        "  x = series[t:t+T]\n",
        "  X.append(x)\n",
        "  y = series[t+T]\n",
        "  Y.append(y)\n",
        "\n",
        "X = np.array(X).reshape(-1, T, 1) # Now the data should be N x T x D\n",
        "Y = np.array(Y)\n",
        "N = len(X)\n",
        "print(\"X.shape\", X.shape, \"Y.shape\", Y.shape)"
      ],
      "execution_count": 27,
      "outputs": [
        {
          "output_type": "stream",
          "text": [
            "X.shape (1248, 10, 1) Y.shape (1248,)\n"
          ],
          "name": "stdout"
        }
      ]
    },
    {
      "cell_type": "code",
      "metadata": {
        "id": "HwCvauuL7tGU",
        "colab_type": "code",
        "colab": {
          "base_uri": "https://localhost:8080/",
          "height": 1000
        },
        "outputId": "58d9d772-39fc-44cd-fbfb-3e8a6d97b519"
      },
      "source": [
        "### try autoregressive RNN model\n",
        "i = Input(shape=(T, 1))\n",
        "x = LSTM(5)(i)\n",
        "x = Dense(1)(x)\n",
        "model = Model(i, x)\n",
        "model.compile(\n",
        "  loss='mse',\n",
        "  optimizer=Adam(lr=0.01),\n",
        ")\n",
        "\n",
        "# train the RNN\n",
        "r = model.fit(\n",
        "  X[:-N//2], Y[:-N//2],\n",
        "  epochs=80,\n",
        "  validation_data=(X[-N//2:], Y[-N//2:]),\n",
        ")"
      ],
      "execution_count": 28,
      "outputs": [
        {
          "output_type": "stream",
          "text": [
            "Epoch 1/80\n",
            "20/20 [==============================] - 0s 23ms/step - loss: 0.9965 - val_loss: 1.1519\n",
            "Epoch 2/80\n",
            "20/20 [==============================] - 0s 7ms/step - loss: 0.9893 - val_loss: 1.1502\n",
            "Epoch 3/80\n",
            "20/20 [==============================] - 0s 7ms/step - loss: 0.9961 - val_loss: 1.1566\n",
            "Epoch 4/80\n",
            "20/20 [==============================] - 0s 7ms/step - loss: 0.9871 - val_loss: 1.1417\n",
            "Epoch 5/80\n",
            "20/20 [==============================] - 0s 7ms/step - loss: 0.9810 - val_loss: 1.1598\n",
            "Epoch 6/80\n",
            "20/20 [==============================] - 0s 7ms/step - loss: 0.9825 - val_loss: 1.1487\n",
            "Epoch 7/80\n",
            "20/20 [==============================] - 0s 7ms/step - loss: 0.9811 - val_loss: 1.1513\n",
            "Epoch 8/80\n",
            "20/20 [==============================] - 0s 7ms/step - loss: 0.9831 - val_loss: 1.1469\n",
            "Epoch 9/80\n",
            "20/20 [==============================] - 0s 7ms/step - loss: 0.9810 - val_loss: 1.1588\n",
            "Epoch 10/80\n",
            "20/20 [==============================] - 0s 7ms/step - loss: 0.9783 - val_loss: 1.1548\n",
            "Epoch 11/80\n",
            "20/20 [==============================] - 0s 7ms/step - loss: 0.9803 - val_loss: 1.1514\n",
            "Epoch 12/80\n",
            "20/20 [==============================] - 0s 7ms/step - loss: 0.9739 - val_loss: 1.1589\n",
            "Epoch 13/80\n",
            "20/20 [==============================] - 0s 8ms/step - loss: 0.9707 - val_loss: 1.1475\n",
            "Epoch 14/80\n",
            "20/20 [==============================] - 0s 7ms/step - loss: 0.9667 - val_loss: 1.1698\n",
            "Epoch 15/80\n",
            "20/20 [==============================] - 0s 7ms/step - loss: 0.9692 - val_loss: 1.1554\n",
            "Epoch 16/80\n",
            "20/20 [==============================] - 0s 7ms/step - loss: 0.9629 - val_loss: 1.1628\n",
            "Epoch 17/80\n",
            "20/20 [==============================] - 0s 7ms/step - loss: 0.9618 - val_loss: 1.1528\n",
            "Epoch 18/80\n",
            "20/20 [==============================] - 0s 7ms/step - loss: 0.9626 - val_loss: 1.1756\n",
            "Epoch 19/80\n",
            "20/20 [==============================] - 0s 7ms/step - loss: 0.9641 - val_loss: 1.1742\n",
            "Epoch 20/80\n",
            "20/20 [==============================] - 0s 7ms/step - loss: 0.9501 - val_loss: 1.1717\n",
            "Epoch 21/80\n",
            "20/20 [==============================] - 0s 7ms/step - loss: 0.9513 - val_loss: 1.1833\n",
            "Epoch 22/80\n",
            "20/20 [==============================] - 0s 7ms/step - loss: 0.9608 - val_loss: 1.1898\n",
            "Epoch 23/80\n",
            "20/20 [==============================] - 0s 7ms/step - loss: 0.9477 - val_loss: 1.1693\n",
            "Epoch 24/80\n",
            "20/20 [==============================] - 0s 7ms/step - loss: 0.9427 - val_loss: 1.1830\n",
            "Epoch 25/80\n",
            "20/20 [==============================] - 0s 7ms/step - loss: 0.9396 - val_loss: 1.1877\n",
            "Epoch 26/80\n",
            "20/20 [==============================] - 0s 7ms/step - loss: 0.9362 - val_loss: 1.2066\n",
            "Epoch 27/80\n",
            "20/20 [==============================] - 0s 7ms/step - loss: 0.9371 - val_loss: 1.1966\n",
            "Epoch 28/80\n",
            "20/20 [==============================] - 0s 7ms/step - loss: 0.9352 - val_loss: 1.1905\n",
            "Epoch 29/80\n",
            "20/20 [==============================] - 0s 7ms/step - loss: 0.9384 - val_loss: 1.2169\n",
            "Epoch 30/80\n",
            "20/20 [==============================] - 0s 7ms/step - loss: 0.9296 - val_loss: 1.1982\n",
            "Epoch 31/80\n",
            "20/20 [==============================] - 0s 7ms/step - loss: 0.9377 - val_loss: 1.1981\n",
            "Epoch 32/80\n",
            "20/20 [==============================] - 0s 7ms/step - loss: 0.9287 - val_loss: 1.2076\n",
            "Epoch 33/80\n",
            "20/20 [==============================] - 0s 8ms/step - loss: 0.9234 - val_loss: 1.2137\n",
            "Epoch 34/80\n",
            "20/20 [==============================] - 0s 7ms/step - loss: 0.9231 - val_loss: 1.2206\n",
            "Epoch 35/80\n",
            "20/20 [==============================] - 0s 7ms/step - loss: 0.9146 - val_loss: 1.2247\n",
            "Epoch 36/80\n",
            "20/20 [==============================] - 0s 7ms/step - loss: 0.9124 - val_loss: 1.2500\n",
            "Epoch 37/80\n",
            "20/20 [==============================] - 0s 7ms/step - loss: 0.9226 - val_loss: 1.2288\n",
            "Epoch 38/80\n",
            "20/20 [==============================] - 0s 7ms/step - loss: 0.9110 - val_loss: 1.2157\n",
            "Epoch 39/80\n",
            "20/20 [==============================] - 0s 7ms/step - loss: 0.9145 - val_loss: 1.2492\n",
            "Epoch 40/80\n",
            "20/20 [==============================] - 0s 7ms/step - loss: 0.9085 - val_loss: 1.2303\n",
            "Epoch 41/80\n",
            "20/20 [==============================] - 0s 7ms/step - loss: 0.9002 - val_loss: 1.2214\n",
            "Epoch 42/80\n",
            "20/20 [==============================] - 0s 7ms/step - loss: 0.9009 - val_loss: 1.2434\n",
            "Epoch 43/80\n",
            "20/20 [==============================] - 0s 6ms/step - loss: 0.9000 - val_loss: 1.2417\n",
            "Epoch 44/80\n",
            "20/20 [==============================] - 0s 7ms/step - loss: 0.8936 - val_loss: 1.2661\n",
            "Epoch 45/80\n",
            "20/20 [==============================] - 0s 7ms/step - loss: 0.9187 - val_loss: 1.2360\n",
            "Epoch 46/80\n",
            "20/20 [==============================] - 0s 7ms/step - loss: 0.8970 - val_loss: 1.2451\n",
            "Epoch 47/80\n",
            "20/20 [==============================] - 0s 7ms/step - loss: 0.8893 - val_loss: 1.2580\n",
            "Epoch 48/80\n",
            "20/20 [==============================] - 0s 7ms/step - loss: 0.8860 - val_loss: 1.2494\n",
            "Epoch 49/80\n",
            "20/20 [==============================] - 0s 7ms/step - loss: 0.8807 - val_loss: 1.2628\n",
            "Epoch 50/80\n",
            "20/20 [==============================] - 0s 7ms/step - loss: 0.8806 - val_loss: 1.2718\n",
            "Epoch 51/80\n",
            "20/20 [==============================] - 0s 7ms/step - loss: 0.8749 - val_loss: 1.2605\n",
            "Epoch 52/80\n",
            "20/20 [==============================] - 0s 7ms/step - loss: 0.8646 - val_loss: 1.2811\n",
            "Epoch 53/80\n",
            "20/20 [==============================] - 0s 7ms/step - loss: 0.8778 - val_loss: 1.2740\n",
            "Epoch 54/80\n",
            "20/20 [==============================] - 0s 7ms/step - loss: 0.8673 - val_loss: 1.2664\n",
            "Epoch 55/80\n",
            "20/20 [==============================] - 0s 7ms/step - loss: 0.8587 - val_loss: 1.2717\n",
            "Epoch 56/80\n",
            "20/20 [==============================] - 0s 7ms/step - loss: 0.8605 - val_loss: 1.2700\n",
            "Epoch 57/80\n",
            "20/20 [==============================] - 0s 7ms/step - loss: 0.8563 - val_loss: 1.2845\n",
            "Epoch 58/80\n",
            "20/20 [==============================] - 0s 7ms/step - loss: 0.8625 - val_loss: 1.2655\n",
            "Epoch 59/80\n",
            "20/20 [==============================] - 0s 7ms/step - loss: 0.8507 - val_loss: 1.3180\n",
            "Epoch 60/80\n",
            "20/20 [==============================] - 0s 7ms/step - loss: 0.8583 - val_loss: 1.2900\n",
            "Epoch 61/80\n",
            "20/20 [==============================] - 0s 7ms/step - loss: 0.8425 - val_loss: 1.3248\n",
            "Epoch 62/80\n",
            "20/20 [==============================] - 0s 7ms/step - loss: 0.8426 - val_loss: 1.2773\n",
            "Epoch 63/80\n",
            "20/20 [==============================] - 0s 7ms/step - loss: 0.8633 - val_loss: 1.3335\n",
            "Epoch 64/80\n",
            "20/20 [==============================] - 0s 7ms/step - loss: 0.8359 - val_loss: 1.3071\n",
            "Epoch 65/80\n",
            "20/20 [==============================] - 0s 7ms/step - loss: 0.8349 - val_loss: 1.2933\n",
            "Epoch 66/80\n",
            "20/20 [==============================] - 0s 7ms/step - loss: 0.8332 - val_loss: 1.3411\n",
            "Epoch 67/80\n",
            "20/20 [==============================] - 0s 7ms/step - loss: 0.8377 - val_loss: 1.3093\n",
            "Epoch 68/80\n",
            "20/20 [==============================] - 0s 7ms/step - loss: 0.8259 - val_loss: 1.3028\n",
            "Epoch 69/80\n",
            "20/20 [==============================] - 0s 7ms/step - loss: 0.8339 - val_loss: 1.3397\n",
            "Epoch 70/80\n",
            "20/20 [==============================] - 0s 7ms/step - loss: 0.8302 - val_loss: 1.3454\n",
            "Epoch 71/80\n",
            "20/20 [==============================] - 0s 7ms/step - loss: 0.8310 - val_loss: 1.3275\n",
            "Epoch 72/80\n",
            "20/20 [==============================] - 0s 7ms/step - loss: 0.8232 - val_loss: 1.3484\n",
            "Epoch 73/80\n",
            "20/20 [==============================] - 0s 7ms/step - loss: 0.8262 - val_loss: 1.3475\n",
            "Epoch 74/80\n",
            "20/20 [==============================] - 0s 7ms/step - loss: 0.8144 - val_loss: 1.3581\n",
            "Epoch 75/80\n",
            "20/20 [==============================] - 0s 7ms/step - loss: 0.8206 - val_loss: 1.3232\n",
            "Epoch 76/80\n",
            "20/20 [==============================] - 0s 7ms/step - loss: 0.8174 - val_loss: 1.3985\n",
            "Epoch 77/80\n",
            "20/20 [==============================] - 0s 7ms/step - loss: 0.8229 - val_loss: 1.3678\n",
            "Epoch 78/80\n",
            "20/20 [==============================] - 0s 7ms/step - loss: 0.8036 - val_loss: 1.3393\n",
            "Epoch 79/80\n",
            "20/20 [==============================] - 0s 7ms/step - loss: 0.8035 - val_loss: 1.3726\n",
            "Epoch 80/80\n",
            "20/20 [==============================] - 0s 7ms/step - loss: 0.8016 - val_loss: 1.3469\n"
          ],
          "name": "stdout"
        }
      ]
    },
    {
      "cell_type": "code",
      "metadata": {
        "id": "ffp-3fQJ7tAR",
        "colab_type": "code",
        "colab": {
          "base_uri": "https://localhost:8080/",
          "height": 282
        },
        "outputId": "5f5226a1-328e-4fed-e14d-2879c9262713"
      },
      "source": [
        "import matplotlib.pyplot as plt\n",
        "plt.plot(r.history['loss'], label='loss')\n",
        "plt.plot(r.history['val_loss'], label='val_loss')\n",
        "plt.legend()"
      ],
      "execution_count": 29,
      "outputs": [
        {
          "output_type": "execute_result",
          "data": {
            "text/plain": [
              "<matplotlib.legend.Legend at 0x7f35b2249f98>"
            ]
          },
          "metadata": {
            "tags": []
          },
          "execution_count": 29
        },
        {
          "output_type": "display_data",
          "data": {
            "image/png": "[encoded data removed]",
            "text/plain": [
              "<Figure size 432x288 with 1 Axes>"
            ]
          },
          "metadata": {
            "tags": [],
            "needs_background": "light"
          }
        }
      ]
    },
    {
      "cell_type": "code",
      "metadata": {
        "id": "3dYkLxuo7s_C",
        "colab_type": "code",
        "colab": {
          "base_uri": "https://localhost:8080/",
          "height": 282
        },
        "outputId": "db3b3cdc-5531-4b62-9e50-7180fa56130e"
      },
      "source": [
        "# One-step forecast using true targets\n",
        "outputs = model.predict(X)\n",
        "print(outputs.shape)\n",
        "predictions = outputs[:,0]\n",
        "\n",
        "plt.plot(Y, label='targets')\n",
        "plt.plot(predictions, label='predictions')\n",
        "plt.legend()\n",
        "plt.show()"
      ],
      "execution_count": 30,
      "outputs": [
        {
          "output_type": "stream",
          "text": [
            "(1248, 1)\n"
          ],
          "name": "stdout"
        },
        {
          "output_type": "display_data",
          "data": {
            "image/png": "[encoded data removed]",
            "text/plain": [
              "<Figure size 432x288 with 1 Axes>"
            ]
          },
          "metadata": {
            "tags": [],
            "needs_background": "light"
          }
        }
      ]
    },
    {
      "cell_type": "code",
      "metadata": {
        "id": "BBjRKSwB7s9f",
        "colab_type": "code",
        "colab": {
          "base_uri": "https://localhost:8080/",
          "height": 282
        },
        "outputId": "e0d0fb7c-03b9-4363-e167-db80911689eb"
      },
      "source": [
        "# Multi-step forecast\n",
        "validation_target = Y[-N//2:]\n",
        "validation_predictions = []\n",
        "\n",
        "# first validation input\n",
        "last_x = X[-N//2] # 1-D array of length T\n",
        "\n",
        "while len(validation_predictions) < len(validation_target):\n",
        "  p = model.predict(last_x.reshape(1, T, 1))[0,0] # 1x1 array -> scalar\n",
        "  \n",
        "  # update the predictions list\n",
        "  validation_predictions.append(p)\n",
        "  \n",
        "  # make the new input\n",
        "  last_x = np.roll(last_x, -1)\n",
        "  last_x[-1] = p\n",
        "\n",
        "plt.plot(validation_target, label='forecast target')\n",
        "plt.plot(validation_predictions, label='forecast prediction')\n",
        "plt.legend()"
      ],
      "execution_count": 31,
      "outputs": [
        {
          "output_type": "execute_result",
          "data": {
            "text/plain": [
              "<matplotlib.legend.Legend at 0x7f35b24dd208>"
            ]
          },
          "metadata": {
            "tags": []
          },
          "execution_count": 31
        },
        {
          "output_type": "display_data",
          "data": {
            "image/png": "[encoded data removed]",
            "text/plain": [
              "<Figure size 432x288 with 1 Axes>"
            ]
          },
          "metadata": {
            "tags": [],
            "needs_background": "light"
          }
        }
      ]
    },
    {
      "cell_type": "markdown",
      "metadata": {
        "id": "U_JK2tNyFO5B",
        "colab_type": "text"
      },
      "source": [
        "# Right model"
      ]
    },
    {
      "cell_type": "code",
      "metadata": {
        "id": "hqtws7_E7s2m",
        "colab_type": "code",
        "colab": {}
      },
      "source": [
        "# Now turn the full data into numpy arrays\n",
        "\n",
        "# Not yet in the final \"X\" format!\n",
        "input_data = df[['open', 'high', 'low', 'close', 'volume']].values\n",
        "targets = df['Return'].values"
      ],
      "execution_count": 0,
      "outputs": []
    },
    {
      "cell_type": "code",
      "metadata": {
        "id": "7i_XKyR37sz8",
        "colab_type": "code",
        "colab": {}
      },
      "source": [
        "# Now make the actual data which will go into the neural network\n",
        "T = 10 # the number of time steps to look at to make a prediction for the next day\n",
        "D = input_data.shape[1] # No. of columns in input data\n",
        "N = len(input_data) - T # (e.g. if T=10 and you have 11 data points then you'd only have 1 sample) "
      ],
      "execution_count": 0,
      "outputs": []
    },
    {
      "cell_type": "code",
      "metadata": {
        "id": "jcEhZEvd7sxm",
        "colab_type": "code",
        "colab": {}
      },
      "source": [
        "# normalize the inputs\n",
        "Ntrain = len(input_data) * 2 // 3\n",
        "scaler = StandardScaler()\n",
        "scaler.fit(input_data[:Ntrain + T - 1])\n",
        "input_data = scaler.transform(input_data)"
      ],
      "execution_count": 0,
      "outputs": []
    },
    {
      "cell_type": "code",
      "metadata": {
        "id": "al_p_iL_7svk",
        "colab_type": "code",
        "colab": {}
      },
      "source": [
        "# Setup X_train and Y_train\n",
        "X_train = np.zeros((Ntrain, T, D))\n",
        "Y_train = np.zeros(Ntrain)\n",
        "\n",
        "for t in range(Ntrain):\n",
        "  X_train[t, :, :] = input_data[t:t+T]\n",
        "  Y_train[t] = (targets[t+T] > 0)"
      ],
      "execution_count": 0,
      "outputs": []
    },
    {
      "cell_type": "code",
      "metadata": {
        "id": "HZtV5xhu7stn",
        "colab_type": "code",
        "colab": {}
      },
      "source": [
        "# Setup X_test and Y_test\n",
        "X_test = np.zeros((N - Ntrain, T, D))\n",
        "Y_test = np.zeros(N - Ntrain)\n",
        "\n",
        "for u in range(N - Ntrain):\n",
        "  # u counts from 0...(N - Ntrain)\n",
        "  # t counts from Ntrain...N\n",
        "  t = u + Ntrain\n",
        "  X_test[u, :, :] = input_data[t:t+T]\n",
        "  Y_test[u] = (targets[t+T] > 0)"
      ],
      "execution_count": 0,
      "outputs": []
    },
    {
      "cell_type": "code",
      "metadata": {
        "id": "xKDkrRft7sr9",
        "colab_type": "code",
        "colab": {}
      },
      "source": [
        "# make the RNN\n",
        "i = Input(shape=(T, D))\n",
        "x = LSTM(50)(i)\n",
        "x = Dense(1, activation='sigmoid')(x)\n",
        "model = Model(i, x)\n",
        "model.compile(\n",
        "  loss='binary_crossentropy',\n",
        "  optimizer=Adam(lr=0.001),\n",
        "  metrics=['accuracy'],\n",
        ")"
      ],
      "execution_count": 0,
      "outputs": []
    },
    {
      "cell_type": "code",
      "metadata": {
        "id": "9JaTxwff7sqk",
        "colab_type": "code",
        "colab": {
          "base_uri": "https://localhost:8080/",
          "height": 1000
        },
        "outputId": "4fbf2e7f-a40b-4362-9e8a-6d60ce6258ac"
      },
      "source": [
        "# train the RNN\n",
        "r = model.fit(\n",
        "  X_train, Y_train,\n",
        "  batch_size=32,\n",
        "  epochs=300,\n",
        "  validation_data=(X_test, Y_test),\n",
        ")"
      ],
      "execution_count": 39,
      "outputs": [
        {
          "output_type": "stream",
          "text": [
            "Epoch 1/300\n",
            "27/27 [==============================] - 1s 21ms/step - loss: 0.6953 - accuracy: 0.5042 - val_loss: 0.6929 - val_accuracy: 0.5341\n",
            "Epoch 2/300\n",
            "27/27 [==============================] - 0s 7ms/step - loss: 0.6934 - accuracy: 0.5232 - val_loss: 0.6995 - val_accuracy: 0.4854\n",
            "Epoch 3/300\n",
            "27/27 [==============================] - 0s 7ms/step - loss: 0.6919 - accuracy: 0.5280 - val_loss: 0.6929 - val_accuracy: 0.4902\n",
            "Epoch 4/300\n",
            "27/27 [==============================] - 0s 7ms/step - loss: 0.6929 - accuracy: 0.4934 - val_loss: 0.6925 - val_accuracy: 0.4976\n",
            "Epoch 5/300\n",
            "27/27 [==============================] - 0s 7ms/step - loss: 0.6905 - accuracy: 0.5232 - val_loss: 0.6953 - val_accuracy: 0.4927\n",
            "Epoch 6/300\n",
            "27/27 [==============================] - 0s 15ms/step - loss: 0.6915 - accuracy: 0.5375 - val_loss: 0.6924 - val_accuracy: 0.5049\n",
            "Epoch 7/300\n",
            "27/27 [==============================] - 0s 7ms/step - loss: 0.6890 - accuracy: 0.5316 - val_loss: 0.6934 - val_accuracy: 0.4951\n",
            "Epoch 8/300\n",
            "27/27 [==============================] - 0s 7ms/step - loss: 0.6905 - accuracy: 0.5399 - val_loss: 0.6956 - val_accuracy: 0.4976\n",
            "Epoch 9/300\n",
            "27/27 [==============================] - 0s 7ms/step - loss: 0.6894 - accuracy: 0.5244 - val_loss: 0.6917 - val_accuracy: 0.5220\n",
            "Epoch 10/300\n",
            "27/27 [==============================] - 0s 7ms/step - loss: 0.6879 - accuracy: 0.5423 - val_loss: 0.6935 - val_accuracy: 0.4951\n",
            "Epoch 11/300\n",
            "27/27 [==============================] - 0s 7ms/step - loss: 0.6884 - accuracy: 0.5387 - val_loss: 0.6904 - val_accuracy: 0.5390\n",
            "Epoch 12/300\n",
            "27/27 [==============================] - 0s 7ms/step - loss: 0.6886 - accuracy: 0.5364 - val_loss: 0.6934 - val_accuracy: 0.4927\n",
            "Epoch 13/300\n",
            "27/27 [==============================] - 0s 7ms/step - loss: 0.6892 - accuracy: 0.5411 - val_loss: 0.6905 - val_accuracy: 0.5341\n",
            "Epoch 14/300\n",
            "27/27 [==============================] - 0s 7ms/step - loss: 0.6871 - accuracy: 0.5340 - val_loss: 0.6957 - val_accuracy: 0.4854\n",
            "Epoch 15/300\n",
            "27/27 [==============================] - 0s 7ms/step - loss: 0.6875 - accuracy: 0.5340 - val_loss: 0.6932 - val_accuracy: 0.5024\n",
            "Epoch 16/300\n",
            "27/27 [==============================] - 0s 7ms/step - loss: 0.6879 - accuracy: 0.5268 - val_loss: 0.6944 - val_accuracy: 0.4976\n",
            "Epoch 17/300\n",
            "27/27 [==============================] - 0s 7ms/step - loss: 0.6868 - accuracy: 0.5340 - val_loss: 0.6905 - val_accuracy: 0.5390\n",
            "Epoch 18/300\n",
            "27/27 [==============================] - 0s 7ms/step - loss: 0.6875 - accuracy: 0.5232 - val_loss: 0.7096 - val_accuracy: 0.5000\n",
            "Epoch 19/300\n",
            "27/27 [==============================] - 0s 7ms/step - loss: 0.6878 - accuracy: 0.5435 - val_loss: 0.6934 - val_accuracy: 0.5000\n",
            "Epoch 20/300\n",
            "27/27 [==============================] - 0s 7ms/step - loss: 0.6857 - accuracy: 0.5411 - val_loss: 0.6949 - val_accuracy: 0.4927\n",
            "Epoch 21/300\n",
            "27/27 [==============================] - 0s 7ms/step - loss: 0.6856 - accuracy: 0.5423 - val_loss: 0.6915 - val_accuracy: 0.5293\n",
            "Epoch 22/300\n",
            "27/27 [==============================] - 0s 7ms/step - loss: 0.6861 - accuracy: 0.5638 - val_loss: 0.6959 - val_accuracy: 0.4951\n",
            "Epoch 23/300\n",
            "27/27 [==============================] - 0s 8ms/step - loss: 0.6861 - accuracy: 0.5495 - val_loss: 0.6949 - val_accuracy: 0.4976\n",
            "Epoch 24/300\n",
            "27/27 [==============================] - 0s 8ms/step - loss: 0.6843 - accuracy: 0.5364 - val_loss: 0.6964 - val_accuracy: 0.5024\n",
            "Epoch 25/300\n",
            "27/27 [==============================] - 0s 7ms/step - loss: 0.6844 - accuracy: 0.5566 - val_loss: 0.6969 - val_accuracy: 0.4951\n",
            "Epoch 26/300\n",
            "27/27 [==============================] - 0s 7ms/step - loss: 0.6845 - accuracy: 0.5364 - val_loss: 0.6921 - val_accuracy: 0.5268\n",
            "Epoch 27/300\n",
            "27/27 [==============================] - 0s 7ms/step - loss: 0.6847 - accuracy: 0.5626 - val_loss: 0.6990 - val_accuracy: 0.4878\n",
            "Epoch 28/300\n",
            "27/27 [==============================] - 0s 7ms/step - loss: 0.6843 - accuracy: 0.5495 - val_loss: 0.6946 - val_accuracy: 0.5146\n",
            "Epoch 29/300\n",
            "27/27 [==============================] - 0s 8ms/step - loss: 0.6851 - accuracy: 0.5507 - val_loss: 0.6930 - val_accuracy: 0.5268\n",
            "Epoch 30/300\n",
            "27/27 [==============================] - 0s 8ms/step - loss: 0.6832 - accuracy: 0.5697 - val_loss: 0.6951 - val_accuracy: 0.5268\n",
            "Epoch 31/300\n",
            "27/27 [==============================] - 0s 8ms/step - loss: 0.6830 - accuracy: 0.5662 - val_loss: 0.6935 - val_accuracy: 0.5220\n",
            "Epoch 32/300\n",
            "27/27 [==============================] - 0s 8ms/step - loss: 0.6842 - accuracy: 0.5590 - val_loss: 0.7036 - val_accuracy: 0.5000\n",
            "Epoch 33/300\n",
            "27/27 [==============================] - 0s 8ms/step - loss: 0.6836 - accuracy: 0.5423 - val_loss: 0.6952 - val_accuracy: 0.5171\n",
            "Epoch 34/300\n",
            "27/27 [==============================] - 0s 8ms/step - loss: 0.6818 - accuracy: 0.5673 - val_loss: 0.6973 - val_accuracy: 0.5073\n",
            "Epoch 35/300\n",
            "27/27 [==============================] - 0s 8ms/step - loss: 0.6845 - accuracy: 0.5662 - val_loss: 0.7025 - val_accuracy: 0.4854\n",
            "Epoch 36/300\n",
            "27/27 [==============================] - 0s 7ms/step - loss: 0.6806 - accuracy: 0.5590 - val_loss: 0.6943 - val_accuracy: 0.5341\n",
            "Epoch 37/300\n",
            "27/27 [==============================] - 0s 8ms/step - loss: 0.6833 - accuracy: 0.5709 - val_loss: 0.6980 - val_accuracy: 0.4902\n",
            "Epoch 38/300\n",
            "27/27 [==============================] - 0s 8ms/step - loss: 0.6827 - accuracy: 0.5745 - val_loss: 0.7000 - val_accuracy: 0.4756\n",
            "Epoch 39/300\n",
            "27/27 [==============================] - 0s 7ms/step - loss: 0.6798 - accuracy: 0.5816 - val_loss: 0.6970 - val_accuracy: 0.5000\n",
            "Epoch 40/300\n",
            "27/27 [==============================] - 0s 7ms/step - loss: 0.6805 - accuracy: 0.5602 - val_loss: 0.6979 - val_accuracy: 0.5000\n",
            "Epoch 41/300\n",
            "27/27 [==============================] - 0s 8ms/step - loss: 0.6819 - accuracy: 0.5662 - val_loss: 0.7006 - val_accuracy: 0.4951\n",
            "Epoch 42/300\n",
            "27/27 [==============================] - 0s 7ms/step - loss: 0.6829 - accuracy: 0.5697 - val_loss: 0.6944 - val_accuracy: 0.5220\n",
            "Epoch 43/300\n",
            "27/27 [==============================] - 0s 8ms/step - loss: 0.6800 - accuracy: 0.5757 - val_loss: 0.6958 - val_accuracy: 0.5146\n",
            "Epoch 44/300\n",
            "27/27 [==============================] - 0s 7ms/step - loss: 0.6792 - accuracy: 0.5828 - val_loss: 0.7031 - val_accuracy: 0.4951\n",
            "Epoch 45/300\n",
            "27/27 [==============================] - 0s 8ms/step - loss: 0.6788 - accuracy: 0.5673 - val_loss: 0.7006 - val_accuracy: 0.4976\n",
            "Epoch 46/300\n",
            "27/27 [==============================] - 0s 7ms/step - loss: 0.6785 - accuracy: 0.5769 - val_loss: 0.6994 - val_accuracy: 0.5122\n",
            "Epoch 47/300\n",
            "27/27 [==============================] - 0s 7ms/step - loss: 0.6781 - accuracy: 0.5709 - val_loss: 0.6972 - val_accuracy: 0.4951\n",
            "Epoch 48/300\n",
            "27/27 [==============================] - 0s 8ms/step - loss: 0.6804 - accuracy: 0.5697 - val_loss: 0.6964 - val_accuracy: 0.5049\n",
            "Epoch 49/300\n",
            "27/27 [==============================] - 0s 7ms/step - loss: 0.6786 - accuracy: 0.5578 - val_loss: 0.6957 - val_accuracy: 0.5268\n",
            "Epoch 50/300\n",
            "27/27 [==============================] - 0s 7ms/step - loss: 0.6763 - accuracy: 0.5662 - val_loss: 0.7020 - val_accuracy: 0.4976\n",
            "Epoch 51/300\n",
            "27/27 [==============================] - 0s 7ms/step - loss: 0.6757 - accuracy: 0.5626 - val_loss: 0.6970 - val_accuracy: 0.5098\n",
            "Epoch 52/300\n",
            "27/27 [==============================] - 0s 7ms/step - loss: 0.6762 - accuracy: 0.5602 - val_loss: 0.6989 - val_accuracy: 0.5024\n",
            "Epoch 53/300\n",
            "27/27 [==============================] - 0s 8ms/step - loss: 0.6768 - accuracy: 0.5614 - val_loss: 0.6963 - val_accuracy: 0.5220\n",
            "Epoch 54/300\n",
            "27/27 [==============================] - 0s 7ms/step - loss: 0.6778 - accuracy: 0.5518 - val_loss: 0.7018 - val_accuracy: 0.5122\n",
            "Epoch 55/300\n",
            "27/27 [==============================] - 0s 7ms/step - loss: 0.6746 - accuracy: 0.5828 - val_loss: 0.6966 - val_accuracy: 0.5122\n",
            "Epoch 56/300\n",
            "27/27 [==============================] - 0s 7ms/step - loss: 0.6738 - accuracy: 0.5769 - val_loss: 0.6999 - val_accuracy: 0.5000\n",
            "Epoch 57/300\n",
            "27/27 [==============================] - 0s 7ms/step - loss: 0.6729 - accuracy: 0.5709 - val_loss: 0.6999 - val_accuracy: 0.5073\n",
            "Epoch 58/300\n",
            "27/27 [==============================] - 0s 8ms/step - loss: 0.6735 - accuracy: 0.5816 - val_loss: 0.6985 - val_accuracy: 0.5195\n",
            "Epoch 59/300\n",
            "27/27 [==============================] - 0s 7ms/step - loss: 0.6728 - accuracy: 0.5733 - val_loss: 0.6990 - val_accuracy: 0.5073\n",
            "Epoch 60/300\n",
            "27/27 [==============================] - 0s 7ms/step - loss: 0.6722 - accuracy: 0.5614 - val_loss: 0.7003 - val_accuracy: 0.5146\n",
            "Epoch 61/300\n",
            "27/27 [==============================] - 0s 7ms/step - loss: 0.6723 - accuracy: 0.5650 - val_loss: 0.6988 - val_accuracy: 0.5171\n",
            "Epoch 62/300\n",
            "27/27 [==============================] - 0s 8ms/step - loss: 0.6694 - accuracy: 0.5793 - val_loss: 0.7067 - val_accuracy: 0.5073\n",
            "Epoch 63/300\n",
            "27/27 [==============================] - 0s 7ms/step - loss: 0.6706 - accuracy: 0.5626 - val_loss: 0.7022 - val_accuracy: 0.5049\n",
            "Epoch 64/300\n",
            "27/27 [==============================] - 0s 8ms/step - loss: 0.6752 - accuracy: 0.5685 - val_loss: 0.7073 - val_accuracy: 0.4878\n",
            "Epoch 65/300\n",
            "27/27 [==============================] - 0s 7ms/step - loss: 0.6705 - accuracy: 0.5793 - val_loss: 0.7009 - val_accuracy: 0.5049\n",
            "Epoch 66/300\n",
            "27/27 [==============================] - 0s 7ms/step - loss: 0.6687 - accuracy: 0.5745 - val_loss: 0.7030 - val_accuracy: 0.5024\n",
            "Epoch 67/300\n",
            "27/27 [==============================] - 0s 7ms/step - loss: 0.6680 - accuracy: 0.5828 - val_loss: 0.7042 - val_accuracy: 0.5024\n",
            "Epoch 68/300\n",
            "27/27 [==============================] - 0s 7ms/step - loss: 0.6678 - accuracy: 0.5900 - val_loss: 0.7081 - val_accuracy: 0.5122\n",
            "Epoch 69/300\n",
            "27/27 [==============================] - 0s 7ms/step - loss: 0.6685 - accuracy: 0.5948 - val_loss: 0.7054 - val_accuracy: 0.4854\n",
            "Epoch 70/300\n",
            "27/27 [==============================] - 0s 7ms/step - loss: 0.6664 - accuracy: 0.5876 - val_loss: 0.7061 - val_accuracy: 0.4976\n",
            "Epoch 71/300\n",
            "27/27 [==============================] - 0s 7ms/step - loss: 0.6674 - accuracy: 0.5721 - val_loss: 0.7035 - val_accuracy: 0.4976\n",
            "Epoch 72/300\n",
            "27/27 [==============================] - 0s 8ms/step - loss: 0.6682 - accuracy: 0.5912 - val_loss: 0.7073 - val_accuracy: 0.4878\n",
            "Epoch 73/300\n",
            "27/27 [==============================] - 0s 7ms/step - loss: 0.6637 - accuracy: 0.5900 - val_loss: 0.7073 - val_accuracy: 0.4927\n",
            "Epoch 74/300\n",
            "27/27 [==============================] - 0s 7ms/step - loss: 0.6617 - accuracy: 0.5959 - val_loss: 0.7082 - val_accuracy: 0.4854\n",
            "Epoch 75/300\n",
            "27/27 [==============================] - 0s 7ms/step - loss: 0.6628 - accuracy: 0.5828 - val_loss: 0.7176 - val_accuracy: 0.4805\n",
            "Epoch 76/300\n",
            "27/27 [==============================] - 0s 7ms/step - loss: 0.6626 - accuracy: 0.5781 - val_loss: 0.7050 - val_accuracy: 0.4927\n",
            "Epoch 77/300\n",
            "27/27 [==============================] - 0s 8ms/step - loss: 0.6617 - accuracy: 0.6103 - val_loss: 0.7041 - val_accuracy: 0.4927\n",
            "Epoch 78/300\n",
            "27/27 [==============================] - 0s 7ms/step - loss: 0.6584 - accuracy: 0.6043 - val_loss: 0.7088 - val_accuracy: 0.5049\n",
            "Epoch 79/300\n",
            "27/27 [==============================] - 0s 7ms/step - loss: 0.6611 - accuracy: 0.5971 - val_loss: 0.7029 - val_accuracy: 0.5000\n",
            "Epoch 80/300\n",
            "27/27 [==============================] - 0s 7ms/step - loss: 0.6588 - accuracy: 0.5912 - val_loss: 0.7041 - val_accuracy: 0.5073\n",
            "Epoch 81/300\n",
            "27/27 [==============================] - 0s 7ms/step - loss: 0.6558 - accuracy: 0.6031 - val_loss: 0.7089 - val_accuracy: 0.5073\n",
            "Epoch 82/300\n",
            "27/27 [==============================] - 0s 7ms/step - loss: 0.6589 - accuracy: 0.6043 - val_loss: 0.7092 - val_accuracy: 0.5073\n",
            "Epoch 83/300\n",
            "27/27 [==============================] - 0s 7ms/step - loss: 0.6543 - accuracy: 0.5948 - val_loss: 0.7112 - val_accuracy: 0.5049\n",
            "Epoch 84/300\n",
            "27/27 [==============================] - 0s 7ms/step - loss: 0.6513 - accuracy: 0.5995 - val_loss: 0.7070 - val_accuracy: 0.5049\n",
            "Epoch 85/300\n",
            "27/27 [==============================] - 0s 7ms/step - loss: 0.6498 - accuracy: 0.6031 - val_loss: 0.7033 - val_accuracy: 0.5146\n",
            "Epoch 86/300\n",
            "27/27 [==============================] - 0s 8ms/step - loss: 0.6509 - accuracy: 0.6055 - val_loss: 0.7161 - val_accuracy: 0.5024\n",
            "Epoch 87/300\n",
            "27/27 [==============================] - 0s 8ms/step - loss: 0.6504 - accuracy: 0.5995 - val_loss: 0.7156 - val_accuracy: 0.4976\n",
            "Epoch 88/300\n",
            "27/27 [==============================] - 0s 7ms/step - loss: 0.6519 - accuracy: 0.5971 - val_loss: 0.7077 - val_accuracy: 0.5146\n",
            "Epoch 89/300\n",
            "27/27 [==============================] - 0s 7ms/step - loss: 0.6442 - accuracy: 0.6091 - val_loss: 0.7074 - val_accuracy: 0.5268\n",
            "Epoch 90/300\n",
            "27/27 [==============================] - 0s 7ms/step - loss: 0.6438 - accuracy: 0.6043 - val_loss: 0.7116 - val_accuracy: 0.5073\n",
            "Epoch 91/300\n",
            "27/27 [==============================] - 0s 8ms/step - loss: 0.6436 - accuracy: 0.6103 - val_loss: 0.7073 - val_accuracy: 0.5195\n",
            "Epoch 92/300\n",
            "27/27 [==============================] - 0s 8ms/step - loss: 0.6440 - accuracy: 0.6043 - val_loss: 0.7125 - val_accuracy: 0.4976\n",
            "Epoch 93/300\n",
            "27/27 [==============================] - 0s 8ms/step - loss: 0.6376 - accuracy: 0.6198 - val_loss: 0.7068 - val_accuracy: 0.5024\n",
            "Epoch 94/300\n",
            "27/27 [==============================] - 0s 7ms/step - loss: 0.6358 - accuracy: 0.6186 - val_loss: 0.7201 - val_accuracy: 0.4976\n",
            "Epoch 95/300\n",
            "27/27 [==============================] - 0s 8ms/step - loss: 0.6336 - accuracy: 0.6269 - val_loss: 0.7194 - val_accuracy: 0.5098\n",
            "Epoch 96/300\n",
            "27/27 [==============================] - 0s 8ms/step - loss: 0.6364 - accuracy: 0.6162 - val_loss: 0.7141 - val_accuracy: 0.4976\n",
            "Epoch 97/300\n",
            "27/27 [==============================] - 0s 7ms/step - loss: 0.6318 - accuracy: 0.6150 - val_loss: 0.7289 - val_accuracy: 0.4927\n",
            "Epoch 98/300\n",
            "27/27 [==============================] - 0s 7ms/step - loss: 0.6304 - accuracy: 0.6246 - val_loss: 0.7289 - val_accuracy: 0.4854\n",
            "Epoch 99/300\n",
            "27/27 [==============================] - 0s 7ms/step - loss: 0.6411 - accuracy: 0.6174 - val_loss: 0.7243 - val_accuracy: 0.4927\n",
            "Epoch 100/300\n",
            "27/27 [==============================] - 0s 7ms/step - loss: 0.6293 - accuracy: 0.6186 - val_loss: 0.7147 - val_accuracy: 0.5122\n",
            "Epoch 101/300\n",
            "27/27 [==============================] - 0s 7ms/step - loss: 0.6297 - accuracy: 0.6174 - val_loss: 0.7266 - val_accuracy: 0.5000\n",
            "Epoch 102/300\n",
            "27/27 [==============================] - 0s 7ms/step - loss: 0.6284 - accuracy: 0.6114 - val_loss: 0.7196 - val_accuracy: 0.5098\n",
            "Epoch 103/300\n",
            "27/27 [==============================] - 0s 7ms/step - loss: 0.6242 - accuracy: 0.6329 - val_loss: 0.7224 - val_accuracy: 0.4951\n",
            "Epoch 104/300\n",
            "27/27 [==============================] - 0s 7ms/step - loss: 0.6287 - accuracy: 0.6186 - val_loss: 0.7314 - val_accuracy: 0.4951\n",
            "Epoch 105/300\n",
            "27/27 [==============================] - 0s 8ms/step - loss: 0.6213 - accuracy: 0.6353 - val_loss: 0.7390 - val_accuracy: 0.5024\n",
            "Epoch 106/300\n",
            "27/27 [==============================] - 0s 8ms/step - loss: 0.6202 - accuracy: 0.6365 - val_loss: 0.7222 - val_accuracy: 0.4976\n",
            "Epoch 107/300\n",
            "27/27 [==============================] - 0s 7ms/step - loss: 0.6174 - accuracy: 0.6365 - val_loss: 0.7304 - val_accuracy: 0.4902\n",
            "Epoch 108/300\n",
            "27/27 [==============================] - 0s 7ms/step - loss: 0.6198 - accuracy: 0.6138 - val_loss: 0.7198 - val_accuracy: 0.5049\n",
            "Epoch 109/300\n",
            "27/27 [==============================] - 0s 7ms/step - loss: 0.6161 - accuracy: 0.6317 - val_loss: 0.7272 - val_accuracy: 0.4976\n",
            "Epoch 110/300\n",
            "27/27 [==============================] - 0s 7ms/step - loss: 0.6089 - accuracy: 0.6317 - val_loss: 0.7340 - val_accuracy: 0.5049\n",
            "Epoch 111/300\n",
            "27/27 [==============================] - 0s 8ms/step - loss: 0.6114 - accuracy: 0.6329 - val_loss: 0.7345 - val_accuracy: 0.4829\n",
            "Epoch 112/300\n",
            "27/27 [==============================] - 0s 8ms/step - loss: 0.6106 - accuracy: 0.6305 - val_loss: 0.7408 - val_accuracy: 0.5024\n",
            "Epoch 113/300\n",
            "27/27 [==============================] - 0s 7ms/step - loss: 0.6094 - accuracy: 0.6448 - val_loss: 0.7439 - val_accuracy: 0.5024\n",
            "Epoch 114/300\n",
            "27/27 [==============================] - 0s 7ms/step - loss: 0.6053 - accuracy: 0.6329 - val_loss: 0.7442 - val_accuracy: 0.5024\n",
            "Epoch 115/300\n",
            "27/27 [==============================] - 0s 7ms/step - loss: 0.6010 - accuracy: 0.6615 - val_loss: 0.7510 - val_accuracy: 0.4976\n",
            "Epoch 116/300\n",
            "27/27 [==============================] - 0s 7ms/step - loss: 0.6031 - accuracy: 0.6377 - val_loss: 0.7356 - val_accuracy: 0.5244\n",
            "Epoch 117/300\n",
            "27/27 [==============================] - 0s 7ms/step - loss: 0.6031 - accuracy: 0.6520 - val_loss: 0.7422 - val_accuracy: 0.4829\n",
            "Epoch 118/300\n",
            "27/27 [==============================] - 0s 7ms/step - loss: 0.5950 - accuracy: 0.6460 - val_loss: 0.7525 - val_accuracy: 0.5024\n",
            "Epoch 119/300\n",
            "27/27 [==============================] - 0s 8ms/step - loss: 0.5970 - accuracy: 0.6591 - val_loss: 0.7561 - val_accuracy: 0.5024\n",
            "Epoch 120/300\n",
            "27/27 [==============================] - 0s 8ms/step - loss: 0.5926 - accuracy: 0.6567 - val_loss: 0.7428 - val_accuracy: 0.4732\n",
            "Epoch 121/300\n",
            "27/27 [==============================] - 0s 7ms/step - loss: 0.5964 - accuracy: 0.6663 - val_loss: 0.7495 - val_accuracy: 0.4707\n",
            "Epoch 122/300\n",
            "27/27 [==============================] - 0s 7ms/step - loss: 0.5946 - accuracy: 0.6484 - val_loss: 0.7493 - val_accuracy: 0.4805\n",
            "Epoch 123/300\n",
            "27/27 [==============================] - 0s 7ms/step - loss: 0.5934 - accuracy: 0.6544 - val_loss: 0.7485 - val_accuracy: 0.4854\n",
            "Epoch 124/300\n",
            "27/27 [==============================] - 0s 7ms/step - loss: 0.5908 - accuracy: 0.6698 - val_loss: 0.7570 - val_accuracy: 0.4829\n",
            "Epoch 125/300\n",
            "27/27 [==============================] - 0s 8ms/step - loss: 0.5851 - accuracy: 0.6734 - val_loss: 0.7644 - val_accuracy: 0.4927\n",
            "Epoch 126/300\n",
            "27/27 [==============================] - 0s 7ms/step - loss: 0.5821 - accuracy: 0.6782 - val_loss: 0.7711 - val_accuracy: 0.5024\n",
            "Epoch 127/300\n",
            "27/27 [==============================] - 0s 7ms/step - loss: 0.5820 - accuracy: 0.6544 - val_loss: 0.7585 - val_accuracy: 0.4780\n",
            "Epoch 128/300\n",
            "27/27 [==============================] - 0s 7ms/step - loss: 0.5794 - accuracy: 0.6794 - val_loss: 0.7635 - val_accuracy: 0.4780\n",
            "Epoch 129/300\n",
            "27/27 [==============================] - 0s 8ms/step - loss: 0.5786 - accuracy: 0.6758 - val_loss: 0.7699 - val_accuracy: 0.4902\n",
            "Epoch 130/300\n",
            "27/27 [==============================] - 0s 8ms/step - loss: 0.5780 - accuracy: 0.6937 - val_loss: 0.7592 - val_accuracy: 0.4732\n",
            "Epoch 131/300\n",
            "27/27 [==============================] - 0s 7ms/step - loss: 0.5715 - accuracy: 0.6794 - val_loss: 0.7683 - val_accuracy: 0.4707\n",
            "Epoch 132/300\n",
            "27/27 [==============================] - 0s 7ms/step - loss: 0.5690 - accuracy: 0.6901 - val_loss: 0.7720 - val_accuracy: 0.5171\n",
            "Epoch 133/300\n",
            "27/27 [==============================] - 0s 8ms/step - loss: 0.5685 - accuracy: 0.6830 - val_loss: 0.7690 - val_accuracy: 0.4829\n",
            "Epoch 134/300\n",
            "27/27 [==============================] - 0s 7ms/step - loss: 0.5709 - accuracy: 0.6865 - val_loss: 0.7703 - val_accuracy: 0.5171\n",
            "Epoch 135/300\n",
            "27/27 [==============================] - 0s 7ms/step - loss: 0.5660 - accuracy: 0.6794 - val_loss: 0.7708 - val_accuracy: 0.4878\n",
            "Epoch 136/300\n",
            "27/27 [==============================] - 0s 8ms/step - loss: 0.5650 - accuracy: 0.6830 - val_loss: 0.7762 - val_accuracy: 0.5098\n",
            "Epoch 137/300\n",
            "27/27 [==============================] - 0s 8ms/step - loss: 0.5592 - accuracy: 0.6937 - val_loss: 0.7742 - val_accuracy: 0.4732\n",
            "Epoch 138/300\n",
            "27/27 [==============================] - 0s 8ms/step - loss: 0.5592 - accuracy: 0.6961 - val_loss: 0.7733 - val_accuracy: 0.4732\n",
            "Epoch 139/300\n",
            "27/27 [==============================] - 0s 7ms/step - loss: 0.5563 - accuracy: 0.7068 - val_loss: 0.7736 - val_accuracy: 0.5024\n",
            "Epoch 140/300\n",
            "27/27 [==============================] - 0s 8ms/step - loss: 0.5573 - accuracy: 0.7020 - val_loss: 0.7751 - val_accuracy: 0.4951\n",
            "Epoch 141/300\n",
            "27/27 [==============================] - 0s 7ms/step - loss: 0.5546 - accuracy: 0.7008 - val_loss: 0.7791 - val_accuracy: 0.4902\n",
            "Epoch 142/300\n",
            "27/27 [==============================] - 0s 7ms/step - loss: 0.5493 - accuracy: 0.7104 - val_loss: 0.7780 - val_accuracy: 0.4683\n",
            "Epoch 143/300\n",
            "27/27 [==============================] - 0s 7ms/step - loss: 0.5492 - accuracy: 0.7068 - val_loss: 0.7737 - val_accuracy: 0.5024\n",
            "Epoch 144/300\n",
            "27/27 [==============================] - 0s 8ms/step - loss: 0.5446 - accuracy: 0.7056 - val_loss: 0.7837 - val_accuracy: 0.4829\n",
            "Epoch 145/300\n",
            "27/27 [==============================] - 0s 7ms/step - loss: 0.5400 - accuracy: 0.7199 - val_loss: 0.7856 - val_accuracy: 0.4829\n",
            "Epoch 146/300\n",
            "27/27 [==============================] - 0s 7ms/step - loss: 0.5365 - accuracy: 0.7128 - val_loss: 0.7958 - val_accuracy: 0.4951\n",
            "Epoch 147/300\n",
            "27/27 [==============================] - 0s 7ms/step - loss: 0.5390 - accuracy: 0.7104 - val_loss: 0.7949 - val_accuracy: 0.4829\n",
            "Epoch 148/300\n",
            "27/27 [==============================] - 0s 7ms/step - loss: 0.5331 - accuracy: 0.7211 - val_loss: 0.7926 - val_accuracy: 0.4707\n",
            "Epoch 149/300\n",
            "27/27 [==============================] - 0s 8ms/step - loss: 0.5312 - accuracy: 0.7151 - val_loss: 0.8062 - val_accuracy: 0.4976\n",
            "Epoch 150/300\n",
            "27/27 [==============================] - 0s 7ms/step - loss: 0.5398 - accuracy: 0.6973 - val_loss: 0.8115 - val_accuracy: 0.4854\n",
            "Epoch 151/300\n",
            "27/27 [==============================] - 0s 7ms/step - loss: 0.5247 - accuracy: 0.7282 - val_loss: 0.7922 - val_accuracy: 0.4707\n",
            "Epoch 152/300\n",
            "27/27 [==============================] - 0s 8ms/step - loss: 0.5258 - accuracy: 0.7187 - val_loss: 0.8173 - val_accuracy: 0.4780\n",
            "Epoch 153/300\n",
            "27/27 [==============================] - 0s 7ms/step - loss: 0.5283 - accuracy: 0.7080 - val_loss: 0.7954 - val_accuracy: 0.4805\n",
            "Epoch 154/300\n",
            "27/27 [==============================] - 0s 8ms/step - loss: 0.5229 - accuracy: 0.7259 - val_loss: 0.8042 - val_accuracy: 0.4854\n",
            "Epoch 155/300\n",
            "27/27 [==============================] - 0s 7ms/step - loss: 0.5276 - accuracy: 0.7294 - val_loss: 0.8168 - val_accuracy: 0.4976\n",
            "Epoch 156/300\n",
            "27/27 [==============================] - 0s 7ms/step - loss: 0.5126 - accuracy: 0.7211 - val_loss: 0.8020 - val_accuracy: 0.4756\n",
            "Epoch 157/300\n",
            "27/27 [==============================] - 0s 7ms/step - loss: 0.5246 - accuracy: 0.7163 - val_loss: 0.8051 - val_accuracy: 0.4805\n",
            "Epoch 158/300\n",
            "27/27 [==============================] - 0s 7ms/step - loss: 0.5058 - accuracy: 0.7366 - val_loss: 0.8141 - val_accuracy: 0.4829\n",
            "Epoch 159/300\n",
            "27/27 [==============================] - 0s 7ms/step - loss: 0.5075 - accuracy: 0.7318 - val_loss: 0.8134 - val_accuracy: 0.4878\n",
            "Epoch 160/300\n",
            "27/27 [==============================] - 0s 7ms/step - loss: 0.5012 - accuracy: 0.7449 - val_loss: 0.8168 - val_accuracy: 0.4732\n",
            "Epoch 161/300\n",
            "27/27 [==============================] - 0s 8ms/step - loss: 0.5016 - accuracy: 0.7449 - val_loss: 0.8277 - val_accuracy: 0.4951\n",
            "Epoch 162/300\n",
            "27/27 [==============================] - 0s 8ms/step - loss: 0.4980 - accuracy: 0.7461 - val_loss: 0.8224 - val_accuracy: 0.4927\n",
            "Epoch 163/300\n",
            "27/27 [==============================] - 0s 7ms/step - loss: 0.4941 - accuracy: 0.7402 - val_loss: 0.8177 - val_accuracy: 0.4927\n",
            "Epoch 164/300\n",
            "27/27 [==============================] - 0s 8ms/step - loss: 0.4969 - accuracy: 0.7461 - val_loss: 0.8264 - val_accuracy: 0.4951\n",
            "Epoch 165/300\n",
            "27/27 [==============================] - 0s 7ms/step - loss: 0.4935 - accuracy: 0.7390 - val_loss: 0.8324 - val_accuracy: 0.5073\n",
            "Epoch 166/300\n",
            "27/27 [==============================] - 0s 8ms/step - loss: 0.4805 - accuracy: 0.7580 - val_loss: 0.8288 - val_accuracy: 0.4902\n",
            "Epoch 167/300\n",
            "27/27 [==============================] - 0s 7ms/step - loss: 0.4861 - accuracy: 0.7497 - val_loss: 0.8246 - val_accuracy: 0.4854\n",
            "Epoch 168/300\n",
            "27/27 [==============================] - 0s 8ms/step - loss: 0.4894 - accuracy: 0.7592 - val_loss: 0.8328 - val_accuracy: 0.5024\n",
            "Epoch 169/300\n",
            "27/27 [==============================] - 0s 7ms/step - loss: 0.4759 - accuracy: 0.7616 - val_loss: 0.8430 - val_accuracy: 0.5049\n",
            "Epoch 170/300\n",
            "27/27 [==============================] - 0s 7ms/step - loss: 0.4783 - accuracy: 0.7390 - val_loss: 0.8228 - val_accuracy: 0.5024\n",
            "Epoch 171/300\n",
            "27/27 [==============================] - 0s 7ms/step - loss: 0.4753 - accuracy: 0.7497 - val_loss: 0.8426 - val_accuracy: 0.4927\n",
            "Epoch 172/300\n",
            "27/27 [==============================] - 0s 8ms/step - loss: 0.4737 - accuracy: 0.7557 - val_loss: 0.8407 - val_accuracy: 0.5024\n",
            "Epoch 173/300\n",
            "27/27 [==============================] - 0s 8ms/step - loss: 0.4700 - accuracy: 0.7616 - val_loss: 0.8427 - val_accuracy: 0.4976\n",
            "Epoch 174/300\n",
            "27/27 [==============================] - 0s 7ms/step - loss: 0.4637 - accuracy: 0.7664 - val_loss: 0.8530 - val_accuracy: 0.5098\n",
            "Epoch 175/300\n",
            "27/27 [==============================] - 0s 7ms/step - loss: 0.4603 - accuracy: 0.7676 - val_loss: 0.8444 - val_accuracy: 0.4927\n",
            "Epoch 176/300\n",
            "27/27 [==============================] - 0s 7ms/step - loss: 0.4588 - accuracy: 0.7640 - val_loss: 0.8579 - val_accuracy: 0.5195\n",
            "Epoch 177/300\n",
            "27/27 [==============================] - 0s 7ms/step - loss: 0.4615 - accuracy: 0.7497 - val_loss: 0.8465 - val_accuracy: 0.4976\n",
            "Epoch 178/300\n",
            "27/27 [==============================] - 0s 7ms/step - loss: 0.4485 - accuracy: 0.7771 - val_loss: 0.8534 - val_accuracy: 0.5049\n",
            "Epoch 179/300\n",
            "27/27 [==============================] - 0s 7ms/step - loss: 0.4463 - accuracy: 0.7771 - val_loss: 0.8620 - val_accuracy: 0.4927\n",
            "Epoch 180/300\n",
            "27/27 [==============================] - 0s 8ms/step - loss: 0.4404 - accuracy: 0.7771 - val_loss: 0.8601 - val_accuracy: 0.5098\n",
            "Epoch 181/300\n",
            "27/27 [==============================] - 0s 7ms/step - loss: 0.4441 - accuracy: 0.7747 - val_loss: 0.8687 - val_accuracy: 0.5000\n",
            "Epoch 182/300\n",
            "27/27 [==============================] - 0s 7ms/step - loss: 0.4382 - accuracy: 0.7640 - val_loss: 0.8614 - val_accuracy: 0.5049\n",
            "Epoch 183/300\n",
            "27/27 [==============================] - 0s 7ms/step - loss: 0.4305 - accuracy: 0.7902 - val_loss: 0.8805 - val_accuracy: 0.5024\n",
            "Epoch 184/300\n",
            "27/27 [==============================] - 0s 7ms/step - loss: 0.4311 - accuracy: 0.7855 - val_loss: 0.8767 - val_accuracy: 0.4927\n",
            "Epoch 185/300\n",
            "27/27 [==============================] - 0s 7ms/step - loss: 0.4258 - accuracy: 0.7843 - val_loss: 0.8741 - val_accuracy: 0.5000\n",
            "Epoch 186/300\n",
            "27/27 [==============================] - 0s 7ms/step - loss: 0.4366 - accuracy: 0.7914 - val_loss: 0.8752 - val_accuracy: 0.5024\n",
            "Epoch 187/300\n",
            "27/27 [==============================] - 0s 7ms/step - loss: 0.4314 - accuracy: 0.7783 - val_loss: 0.8811 - val_accuracy: 0.5146\n",
            "Epoch 188/300\n",
            "27/27 [==============================] - 0s 8ms/step - loss: 0.4223 - accuracy: 0.7819 - val_loss: 0.8791 - val_accuracy: 0.5244\n",
            "Epoch 189/300\n",
            "27/27 [==============================] - 0s 7ms/step - loss: 0.4185 - accuracy: 0.7962 - val_loss: 0.8812 - val_accuracy: 0.5171\n",
            "Epoch 190/300\n",
            "27/27 [==============================] - 0s 7ms/step - loss: 0.4141 - accuracy: 0.7855 - val_loss: 0.8757 - val_accuracy: 0.5244\n",
            "Epoch 191/300\n",
            "27/27 [==============================] - 0s 7ms/step - loss: 0.4142 - accuracy: 0.7926 - val_loss: 0.8797 - val_accuracy: 0.5122\n",
            "Epoch 192/300\n",
            "27/27 [==============================] - 0s 8ms/step - loss: 0.4074 - accuracy: 0.8081 - val_loss: 0.8976 - val_accuracy: 0.5146\n",
            "Epoch 193/300\n",
            "27/27 [==============================] - 0s 8ms/step - loss: 0.4039 - accuracy: 0.8010 - val_loss: 0.8788 - val_accuracy: 0.5268\n",
            "Epoch 194/300\n",
            "27/27 [==============================] - 0s 7ms/step - loss: 0.4040 - accuracy: 0.8010 - val_loss: 0.8943 - val_accuracy: 0.5146\n",
            "Epoch 195/300\n",
            "27/27 [==============================] - 0s 8ms/step - loss: 0.3896 - accuracy: 0.8164 - val_loss: 0.9019 - val_accuracy: 0.4976\n",
            "Epoch 196/300\n",
            "27/27 [==============================] - 0s 8ms/step - loss: 0.3968 - accuracy: 0.8069 - val_loss: 0.9080 - val_accuracy: 0.5220\n",
            "Epoch 197/300\n",
            "27/27 [==============================] - 0s 7ms/step - loss: 0.3924 - accuracy: 0.8045 - val_loss: 0.9135 - val_accuracy: 0.5098\n",
            "Epoch 198/300\n",
            "27/27 [==============================] - 0s 7ms/step - loss: 0.3858 - accuracy: 0.7998 - val_loss: 0.9090 - val_accuracy: 0.5244\n",
            "Epoch 199/300\n",
            "27/27 [==============================] - 0s 8ms/step - loss: 0.3887 - accuracy: 0.7974 - val_loss: 0.9065 - val_accuracy: 0.5171\n",
            "Epoch 200/300\n",
            "27/27 [==============================] - 0s 8ms/step - loss: 0.4159 - accuracy: 0.7867 - val_loss: 0.9070 - val_accuracy: 0.4927\n",
            "Epoch 201/300\n",
            "27/27 [==============================] - 0s 7ms/step - loss: 0.4005 - accuracy: 0.8033 - val_loss: 0.9188 - val_accuracy: 0.5146\n",
            "Epoch 202/300\n",
            "27/27 [==============================] - 0s 7ms/step - loss: 0.3830 - accuracy: 0.8081 - val_loss: 0.9125 - val_accuracy: 0.5293\n",
            "Epoch 203/300\n",
            "27/27 [==============================] - 0s 7ms/step - loss: 0.3685 - accuracy: 0.8224 - val_loss: 0.9168 - val_accuracy: 0.5171\n",
            "Epoch 204/300\n",
            "27/27 [==============================] - 0s 7ms/step - loss: 0.3650 - accuracy: 0.8343 - val_loss: 0.9296 - val_accuracy: 0.5049\n",
            "Epoch 205/300\n",
            "27/27 [==============================] - 0s 7ms/step - loss: 0.3746 - accuracy: 0.8117 - val_loss: 0.9179 - val_accuracy: 0.5195\n",
            "Epoch 206/300\n",
            "27/27 [==============================] - 0s 7ms/step - loss: 0.3669 - accuracy: 0.8248 - val_loss: 0.9382 - val_accuracy: 0.4951\n",
            "Epoch 207/300\n",
            "27/27 [==============================] - 0s 7ms/step - loss: 0.3567 - accuracy: 0.8176 - val_loss: 0.9414 - val_accuracy: 0.5049\n",
            "Epoch 208/300\n",
            "27/27 [==============================] - 0s 8ms/step - loss: 0.3547 - accuracy: 0.8284 - val_loss: 0.9435 - val_accuracy: 0.4951\n",
            "Epoch 209/300\n",
            "27/27 [==============================] - 0s 7ms/step - loss: 0.3593 - accuracy: 0.8212 - val_loss: 0.9496 - val_accuracy: 0.5000\n",
            "Epoch 210/300\n",
            "27/27 [==============================] - 0s 7ms/step - loss: 0.3509 - accuracy: 0.8296 - val_loss: 0.9519 - val_accuracy: 0.5049\n",
            "Epoch 211/300\n",
            "27/27 [==============================] - 0s 7ms/step - loss: 0.3549 - accuracy: 0.8319 - val_loss: 0.9420 - val_accuracy: 0.4976\n",
            "Epoch 212/300\n",
            "27/27 [==============================] - 0s 7ms/step - loss: 0.3489 - accuracy: 0.8260 - val_loss: 0.9589 - val_accuracy: 0.4976\n",
            "Epoch 213/300\n",
            "27/27 [==============================] - 0s 7ms/step - loss: 0.3463 - accuracy: 0.8319 - val_loss: 0.9573 - val_accuracy: 0.5366\n",
            "Epoch 214/300\n",
            "27/27 [==============================] - 0s 7ms/step - loss: 0.3439 - accuracy: 0.8367 - val_loss: 0.9559 - val_accuracy: 0.5098\n",
            "Epoch 215/300\n",
            "27/27 [==============================] - 0s 7ms/step - loss: 0.3454 - accuracy: 0.8319 - val_loss: 0.9547 - val_accuracy: 0.5122\n",
            "Epoch 216/300\n",
            "27/27 [==============================] - 0s 7ms/step - loss: 0.3458 - accuracy: 0.8415 - val_loss: 0.9633 - val_accuracy: 0.4976\n",
            "Epoch 217/300\n",
            "27/27 [==============================] - 0s 8ms/step - loss: 0.3334 - accuracy: 0.8451 - val_loss: 0.9762 - val_accuracy: 0.5000\n",
            "Epoch 218/300\n",
            "27/27 [==============================] - 0s 7ms/step - loss: 0.3375 - accuracy: 0.8391 - val_loss: 0.9656 - val_accuracy: 0.4976\n",
            "Epoch 219/300\n",
            "27/27 [==============================] - 0s 7ms/step - loss: 0.3232 - accuracy: 0.8474 - val_loss: 0.9858 - val_accuracy: 0.5000\n",
            "Epoch 220/300\n",
            "27/27 [==============================] - 0s 7ms/step - loss: 0.3294 - accuracy: 0.8403 - val_loss: 0.9804 - val_accuracy: 0.5073\n",
            "Epoch 221/300\n",
            "27/27 [==============================] - 0s 7ms/step - loss: 0.3370 - accuracy: 0.8296 - val_loss: 0.9829 - val_accuracy: 0.5073\n",
            "Epoch 222/300\n",
            "27/27 [==============================] - 0s 7ms/step - loss: 0.3227 - accuracy: 0.8439 - val_loss: 0.9835 - val_accuracy: 0.5049\n",
            "Epoch 223/300\n",
            "27/27 [==============================] - 0s 7ms/step - loss: 0.3198 - accuracy: 0.8498 - val_loss: 0.9951 - val_accuracy: 0.5098\n",
            "Epoch 224/300\n",
            "27/27 [==============================] - 0s 7ms/step - loss: 0.3457 - accuracy: 0.8355 - val_loss: 0.9957 - val_accuracy: 0.5244\n",
            "Epoch 225/300\n",
            "27/27 [==============================] - 0s 7ms/step - loss: 0.3369 - accuracy: 0.8546 - val_loss: 1.0124 - val_accuracy: 0.4927\n",
            "Epoch 226/300\n",
            "27/27 [==============================] - 0s 7ms/step - loss: 0.3238 - accuracy: 0.8522 - val_loss: 0.9995 - val_accuracy: 0.5220\n",
            "Epoch 227/300\n",
            "27/27 [==============================] - 0s 7ms/step - loss: 0.3094 - accuracy: 0.8653 - val_loss: 1.0129 - val_accuracy: 0.5098\n",
            "Epoch 228/300\n",
            "27/27 [==============================] - 0s 7ms/step - loss: 0.3096 - accuracy: 0.8617 - val_loss: 1.0156 - val_accuracy: 0.5171\n",
            "Epoch 229/300\n",
            "27/27 [==============================] - 0s 7ms/step - loss: 0.3014 - accuracy: 0.8713 - val_loss: 1.0299 - val_accuracy: 0.4902\n",
            "Epoch 230/300\n",
            "27/27 [==============================] - 0s 7ms/step - loss: 0.3080 - accuracy: 0.8582 - val_loss: 1.0063 - val_accuracy: 0.5073\n",
            "Epoch 231/300\n",
            "27/27 [==============================] - 0s 7ms/step - loss: 0.3016 - accuracy: 0.8594 - val_loss: 1.0271 - val_accuracy: 0.5122\n",
            "Epoch 232/300\n",
            "27/27 [==============================] - 0s 7ms/step - loss: 0.2947 - accuracy: 0.8629 - val_loss: 1.0364 - val_accuracy: 0.5244\n",
            "Epoch 233/300\n",
            "27/27 [==============================] - 0s 7ms/step - loss: 0.2915 - accuracy: 0.8665 - val_loss: 1.0485 - val_accuracy: 0.5098\n",
            "Epoch 234/300\n",
            "27/27 [==============================] - 0s 7ms/step - loss: 0.2886 - accuracy: 0.8737 - val_loss: 1.0525 - val_accuracy: 0.5171\n",
            "Epoch 235/300\n",
            "27/27 [==============================] - 0s 7ms/step - loss: 0.2954 - accuracy: 0.8677 - val_loss: 1.0503 - val_accuracy: 0.5293\n",
            "Epoch 236/300\n",
            "27/27 [==============================] - 0s 8ms/step - loss: 0.2888 - accuracy: 0.8701 - val_loss: 1.0541 - val_accuracy: 0.5195\n",
            "Epoch 237/300\n",
            "27/27 [==============================] - 0s 7ms/step - loss: 0.2831 - accuracy: 0.8749 - val_loss: 1.0610 - val_accuracy: 0.5098\n",
            "Epoch 238/300\n",
            "27/27 [==============================] - 0s 7ms/step - loss: 0.2816 - accuracy: 0.8725 - val_loss: 1.0605 - val_accuracy: 0.4976\n",
            "Epoch 239/300\n",
            "27/27 [==============================] - 0s 8ms/step - loss: 0.2815 - accuracy: 0.8725 - val_loss: 1.0731 - val_accuracy: 0.5122\n",
            "Epoch 240/300\n",
            "27/27 [==============================] - 0s 7ms/step - loss: 0.2897 - accuracy: 0.8653 - val_loss: 1.0836 - val_accuracy: 0.5098\n",
            "Epoch 241/300\n",
            "27/27 [==============================] - 0s 8ms/step - loss: 0.2782 - accuracy: 0.8749 - val_loss: 1.0751 - val_accuracy: 0.5220\n",
            "Epoch 242/300\n",
            "27/27 [==============================] - 0s 7ms/step - loss: 0.2819 - accuracy: 0.8713 - val_loss: 1.0748 - val_accuracy: 0.5098\n",
            "Epoch 243/300\n",
            "27/27 [==============================] - 0s 7ms/step - loss: 0.2703 - accuracy: 0.8784 - val_loss: 1.0989 - val_accuracy: 0.5073\n",
            "Epoch 244/300\n",
            "27/27 [==============================] - 0s 7ms/step - loss: 0.2665 - accuracy: 0.8844 - val_loss: 1.0941 - val_accuracy: 0.5146\n",
            "Epoch 245/300\n",
            "27/27 [==============================] - 0s 8ms/step - loss: 0.2639 - accuracy: 0.8808 - val_loss: 1.0894 - val_accuracy: 0.5244\n",
            "Epoch 246/300\n",
            "27/27 [==============================] - 0s 8ms/step - loss: 0.2689 - accuracy: 0.8760 - val_loss: 1.1121 - val_accuracy: 0.5098\n",
            "Epoch 247/300\n",
            "27/27 [==============================] - 0s 8ms/step - loss: 0.2705 - accuracy: 0.8725 - val_loss: 1.1256 - val_accuracy: 0.5024\n",
            "Epoch 248/300\n",
            "27/27 [==============================] - 0s 8ms/step - loss: 0.2613 - accuracy: 0.8880 - val_loss: 1.1062 - val_accuracy: 0.5268\n",
            "Epoch 249/300\n",
            "27/27 [==============================] - 0s 7ms/step - loss: 0.2565 - accuracy: 0.8903 - val_loss: 1.1209 - val_accuracy: 0.5098\n",
            "Epoch 250/300\n",
            "27/27 [==============================] - 0s 8ms/step - loss: 0.2545 - accuracy: 0.8832 - val_loss: 1.1266 - val_accuracy: 0.5244\n",
            "Epoch 251/300\n",
            "27/27 [==============================] - 0s 7ms/step - loss: 0.2597 - accuracy: 0.8880 - val_loss: 1.1345 - val_accuracy: 0.5220\n",
            "Epoch 252/300\n",
            "27/27 [==============================] - 0s 7ms/step - loss: 0.2553 - accuracy: 0.8915 - val_loss: 1.1322 - val_accuracy: 0.5171\n",
            "Epoch 253/300\n",
            "27/27 [==============================] - 0s 7ms/step - loss: 0.2526 - accuracy: 0.8880 - val_loss: 1.1508 - val_accuracy: 0.5146\n",
            "Epoch 254/300\n",
            "27/27 [==============================] - 0s 7ms/step - loss: 0.2849 - accuracy: 0.8582 - val_loss: 1.1286 - val_accuracy: 0.5244\n",
            "Epoch 255/300\n",
            "27/27 [==============================] - 0s 8ms/step - loss: 0.2573 - accuracy: 0.8903 - val_loss: 1.1677 - val_accuracy: 0.4976\n",
            "Epoch 256/300\n",
            "27/27 [==============================] - 0s 7ms/step - loss: 0.2517 - accuracy: 0.8856 - val_loss: 1.1540 - val_accuracy: 0.5244\n",
            "Epoch 257/300\n",
            "27/27 [==============================] - 0s 7ms/step - loss: 0.2411 - accuracy: 0.8927 - val_loss: 1.1723 - val_accuracy: 0.5098\n",
            "Epoch 258/300\n",
            "27/27 [==============================] - 0s 7ms/step - loss: 0.2452 - accuracy: 0.8939 - val_loss: 1.1714 - val_accuracy: 0.5341\n",
            "Epoch 259/300\n",
            "27/27 [==============================] - 0s 7ms/step - loss: 0.2459 - accuracy: 0.8951 - val_loss: 1.1589 - val_accuracy: 0.5293\n",
            "Epoch 260/300\n",
            "27/27 [==============================] - 0s 8ms/step - loss: 0.2364 - accuracy: 0.9058 - val_loss: 1.1837 - val_accuracy: 0.5146\n",
            "Epoch 261/300\n",
            "27/27 [==============================] - 0s 7ms/step - loss: 0.2318 - accuracy: 0.9094 - val_loss: 1.1763 - val_accuracy: 0.5244\n",
            "Epoch 262/300\n",
            "27/27 [==============================] - 0s 7ms/step - loss: 0.2350 - accuracy: 0.9035 - val_loss: 1.1871 - val_accuracy: 0.5244\n",
            "Epoch 263/300\n",
            "27/27 [==============================] - 0s 7ms/step - loss: 0.2292 - accuracy: 0.9011 - val_loss: 1.1778 - val_accuracy: 0.5171\n",
            "Epoch 264/300\n",
            "27/27 [==============================] - 0s 8ms/step - loss: 0.2295 - accuracy: 0.9011 - val_loss: 1.1907 - val_accuracy: 0.5293\n",
            "Epoch 265/300\n",
            "27/27 [==============================] - 0s 7ms/step - loss: 0.2217 - accuracy: 0.9046 - val_loss: 1.1940 - val_accuracy: 0.5220\n",
            "Epoch 266/300\n",
            "27/27 [==============================] - 0s 7ms/step - loss: 0.2278 - accuracy: 0.9035 - val_loss: 1.1931 - val_accuracy: 0.5073\n",
            "Epoch 267/300\n",
            "27/27 [==============================] - 0s 7ms/step - loss: 0.2231 - accuracy: 0.9106 - val_loss: 1.2104 - val_accuracy: 0.5098\n",
            "Epoch 268/300\n",
            "27/27 [==============================] - 0s 7ms/step - loss: 0.2241 - accuracy: 0.9023 - val_loss: 1.2115 - val_accuracy: 0.5171\n",
            "Epoch 269/300\n",
            "27/27 [==============================] - 0s 7ms/step - loss: 0.2167 - accuracy: 0.9142 - val_loss: 1.2344 - val_accuracy: 0.5195\n",
            "Epoch 270/300\n",
            "27/27 [==============================] - 0s 8ms/step - loss: 0.2223 - accuracy: 0.9011 - val_loss: 1.2314 - val_accuracy: 0.5171\n",
            "Epoch 271/300\n",
            "27/27 [==============================] - 0s 7ms/step - loss: 0.2117 - accuracy: 0.9213 - val_loss: 1.2251 - val_accuracy: 0.5024\n",
            "Epoch 272/300\n",
            "27/27 [==============================] - 0s 7ms/step - loss: 0.2265 - accuracy: 0.9058 - val_loss: 1.2278 - val_accuracy: 0.5000\n",
            "Epoch 273/300\n",
            "27/27 [==============================] - 0s 8ms/step - loss: 0.2239 - accuracy: 0.9046 - val_loss: 1.2428 - val_accuracy: 0.5268\n",
            "Epoch 274/300\n",
            "27/27 [==============================] - 0s 7ms/step - loss: 0.2235 - accuracy: 0.9011 - val_loss: 1.2683 - val_accuracy: 0.5293\n",
            "Epoch 275/300\n",
            "27/27 [==============================] - 0s 7ms/step - loss: 0.2193 - accuracy: 0.9142 - val_loss: 1.2443 - val_accuracy: 0.5146\n",
            "Epoch 276/300\n",
            "27/27 [==============================] - 0s 7ms/step - loss: 0.2135 - accuracy: 0.9082 - val_loss: 1.2132 - val_accuracy: 0.5146\n",
            "Epoch 277/300\n",
            "27/27 [==============================] - 0s 7ms/step - loss: 0.2217 - accuracy: 0.9058 - val_loss: 1.2405 - val_accuracy: 0.5171\n",
            "Epoch 278/300\n",
            "27/27 [==============================] - 0s 7ms/step - loss: 0.2093 - accuracy: 0.9225 - val_loss: 1.2606 - val_accuracy: 0.5146\n",
            "Epoch 279/300\n",
            "27/27 [==============================] - 0s 8ms/step - loss: 0.2090 - accuracy: 0.9154 - val_loss: 1.2479 - val_accuracy: 0.5317\n",
            "Epoch 280/300\n",
            "27/27 [==============================] - 0s 8ms/step - loss: 0.2273 - accuracy: 0.8987 - val_loss: 1.3046 - val_accuracy: 0.5024\n",
            "Epoch 281/300\n",
            "27/27 [==============================] - 0s 7ms/step - loss: 0.2377 - accuracy: 0.8999 - val_loss: 1.2362 - val_accuracy: 0.5268\n",
            "Epoch 282/300\n",
            "27/27 [==============================] - 0s 8ms/step - loss: 0.1968 - accuracy: 0.9213 - val_loss: 1.2622 - val_accuracy: 0.5122\n",
            "Epoch 283/300\n",
            "27/27 [==============================] - 0s 8ms/step - loss: 0.2024 - accuracy: 0.9213 - val_loss: 1.2760 - val_accuracy: 0.5146\n",
            "Epoch 284/300\n",
            "27/27 [==============================] - 0s 8ms/step - loss: 0.2101 - accuracy: 0.9118 - val_loss: 1.2828 - val_accuracy: 0.5244\n",
            "Epoch 285/300\n",
            "27/27 [==============================] - 0s 7ms/step - loss: 0.2028 - accuracy: 0.9106 - val_loss: 1.2625 - val_accuracy: 0.5171\n",
            "Epoch 286/300\n",
            "27/27 [==============================] - 0s 8ms/step - loss: 0.1919 - accuracy: 0.9225 - val_loss: 1.3409 - val_accuracy: 0.4854\n",
            "Epoch 287/300\n",
            "27/27 [==============================] - 0s 7ms/step - loss: 0.1868 - accuracy: 0.9309 - val_loss: 1.2956 - val_accuracy: 0.5268\n",
            "Epoch 288/300\n",
            "27/27 [==============================] - 0s 7ms/step - loss: 0.1833 - accuracy: 0.9237 - val_loss: 1.3239 - val_accuracy: 0.5171\n",
            "Epoch 289/300\n",
            "27/27 [==============================] - 0s 8ms/step - loss: 0.1836 - accuracy: 0.9237 - val_loss: 1.3170 - val_accuracy: 0.5024\n",
            "Epoch 290/300\n",
            "27/27 [==============================] - 0s 7ms/step - loss: 0.2021 - accuracy: 0.9130 - val_loss: 1.3485 - val_accuracy: 0.4805\n",
            "Epoch 291/300\n",
            "27/27 [==============================] - 0s 7ms/step - loss: 0.2117 - accuracy: 0.9130 - val_loss: 1.3056 - val_accuracy: 0.5122\n",
            "Epoch 292/300\n",
            "27/27 [==============================] - 0s 8ms/step - loss: 0.2049 - accuracy: 0.9142 - val_loss: 1.3338 - val_accuracy: 0.5122\n",
            "Epoch 293/300\n",
            "27/27 [==============================] - 0s 8ms/step - loss: 0.1869 - accuracy: 0.9237 - val_loss: 1.3001 - val_accuracy: 0.5024\n",
            "Epoch 294/300\n",
            "27/27 [==============================] - 0s 8ms/step - loss: 0.1858 - accuracy: 0.9273 - val_loss: 1.3391 - val_accuracy: 0.5195\n",
            "Epoch 295/300\n",
            "27/27 [==============================] - 0s 8ms/step - loss: 0.1802 - accuracy: 0.9285 - val_loss: 1.3315 - val_accuracy: 0.5073\n",
            "Epoch 296/300\n",
            "27/27 [==============================] - 0s 8ms/step - loss: 0.1738 - accuracy: 0.9285 - val_loss: 1.3263 - val_accuracy: 0.5268\n",
            "Epoch 297/300\n",
            "27/27 [==============================] - 0s 8ms/step - loss: 0.1703 - accuracy: 0.9356 - val_loss: 1.3417 - val_accuracy: 0.5049\n",
            "Epoch 298/300\n",
            "27/27 [==============================] - 0s 8ms/step - loss: 0.1675 - accuracy: 0.9309 - val_loss: 1.3404 - val_accuracy: 0.5122\n",
            "Epoch 299/300\n",
            "27/27 [==============================] - 0s 8ms/step - loss: 0.1708 - accuracy: 0.9344 - val_loss: 1.3586 - val_accuracy: 0.5098\n",
            "Epoch 300/300\n",
            "27/27 [==============================] - 0s 8ms/step - loss: 0.1710 - accuracy: 0.9285 - val_loss: 1.3590 - val_accuracy: 0.5024\n"
          ],
          "name": "stdout"
        }
      ]
    },
    {
      "cell_type": "code",
      "metadata": {
        "id": "f81zfXcC7skR",
        "colab_type": "code",
        "colab": {
          "base_uri": "https://localhost:8080/",
          "height": 266
        },
        "outputId": "9fa3fd08-c215-48a3-be63-b165a51c7012"
      },
      "source": [
        "plt.plot(r.history['loss'], label='loss')\n",
        "plt.plot(r.history['val_loss'], label='val_loss')\n",
        "plt.legend()\n",
        "plt.show()"
      ],
      "execution_count": 40,
      "outputs": [
        {
          "output_type": "display_data",
          "data": {
            "image/png": "[encoded data removed]",
            "text/plain": [
              "<Figure size 432x288 with 1 Axes>"
            ]
          },
          "metadata": {
            "tags": [],
            "needs_background": "light"
          }
        }
      ]
    },
    {
      "cell_type": "code",
      "metadata": {
        "id": "vpoDmx3g7sfg",
        "colab_type": "code",
        "colab": {
          "base_uri": "https://localhost:8080/",
          "height": 265
        },
        "outputId": "7db7675c-436c-49a0-f6cf-1af8a6268ed5"
      },
      "source": [
        "plt.plot(r.history['accuracy'], label='accuracy')\n",
        "plt.plot(r.history['val_accuracy'], label='val_accuracy')\n",
        "plt.legend()\n",
        "plt.show()"
      ],
      "execution_count": 41,
      "outputs": [
        {
          "output_type": "display_data",
          "data": {
            "image/png": "[encoded data removed]",
            "text/plain": [
              "<Figure size 432x288 with 1 Axes>"
            ]
          },
          "metadata": {
            "tags": [],
            "needs_background": "light"
          }
        }
      ]
    }
  ]
}