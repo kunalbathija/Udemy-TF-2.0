{
  "nbformat": 4,
  "nbformat_minor": 0,
  "metadata": {
    "colab": {
      "name": "Mirrored Strategy.ipynb",
      "provenance": [],
      "authorship_tag": "ABX9TyOQYtfTU4G8eCkndLC7NmmP",
      "include_colab_link": true
    },
    "kernelspec": {
      "name": "python3",
      "display_name": "Python 3"
    },
    "accelerator": "GPU"
  },
  "cells": [
    {
      "cell_type": "markdown",
      "metadata": {
        "id": "view-in-github",
        "colab_type": "text"
      },
      "source": [
        "<a href=\"https://colab.research.google.com/github/kunalbathija/Udemy-TF-2.0/blob/master/Mirrored_Strategy.ipynb\" target=\"_parent\"><img src=\"https://colab.research.google.com/assets/colab-badge.svg\" alt=\"Open In Colab\"/></a>"
      ]
    },
    {
      "cell_type": "code",
      "metadata": {
        "id": "IvnDvc4u_DhB",
        "colab_type": "code",
        "colab": {
          "base_uri": "https://localhost:8080/",
          "height": 34
        },
        "outputId": "6eb2ae41-6ad3-4570-a6b4-aa8acd220db3"
      },
      "source": [
        "import tensorflow as tf\n",
        "print(tf.__version__)"
      ],
      "execution_count": 1,
      "outputs": [
        {
          "output_type": "stream",
          "text": [
            "2.2.0\n"
          ],
          "name": "stdout"
        }
      ]
    },
    {
      "cell_type": "code",
      "metadata": {
        "id": "-DAZKFDF_RW4",
        "colab_type": "code",
        "colab": {}
      },
      "source": [
        "import numpy as np\n",
        "import matplotlib.pyplot as plt\n",
        "from tensorflow.keras.layers import Input, Conv2D, Dense, Flatten, Dropout, GlobalMaxPooling2D, MaxPooling2D, BatchNormalization\n",
        "from tensorflow.keras.models import Model"
      ],
      "execution_count": 0,
      "outputs": []
    },
    {
      "cell_type": "code",
      "metadata": {
        "id": "R7dU67tB_RaF",
        "colab_type": "code",
        "colab": {
          "base_uri": "https://localhost:8080/",
          "height": 85
        },
        "outputId": "624d4c02-f69e-435f-ca1c-ef666b7cb99a"
      },
      "source": [
        "cifar10 = tf.keras.datasets.cifar10\n",
        "\n",
        "(x_train, y_train), (x_test, y_test) = cifar10.load_data()\n",
        "x_train, x_test = x_train / 255.0, x_test / 255.0\n",
        "y_train, y_test = y_train.flatten(), y_test.flatten()\n",
        "print(\"x_train.shape:\", x_train.shape)\n",
        "print(\"y_train.shape\", y_train.shape)"
      ],
      "execution_count": 3,
      "outputs": [
        {
          "output_type": "stream",
          "text": [
            "Downloading data from https://www.cs.toronto.edu/~kriz/cifar-10-python.tar.gz\n",
            "170500096/170498071 [==============================] - 6s 0us/step\n",
            "x_train.shape: (50000, 32, 32, 3)\n",
            "y_train.shape (50000,)\n"
          ],
          "name": "stdout"
        }
      ]
    },
    {
      "cell_type": "code",
      "metadata": {
        "id": "bSgM6ctY_Rcc",
        "colab_type": "code",
        "colab": {
          "base_uri": "https://localhost:8080/",
          "height": 34
        },
        "outputId": "440234b2-9e33-43f7-b87e-43bbbc63a630"
      },
      "source": [
        "K = len(set(y_train))\n",
        "print(\"number of classes:\", K)"
      ],
      "execution_count": 4,
      "outputs": [
        {
          "output_type": "stream",
          "text": [
            "number of classes: 10\n"
          ],
          "name": "stdout"
        }
      ]
    },
    {
      "cell_type": "code",
      "metadata": {
        "id": "D_1xVDwN_RfM",
        "colab_type": "code",
        "colab": {}
      },
      "source": [
        "def create_model():\n",
        "  i = Input(shape=x_train[0].shape)\n",
        "\n",
        "  x = Conv2D(32, (3, 3), activation='relu', padding='same')(i)\n",
        "  x = BatchNormalization()(x)\n",
        "  x = Conv2D(32, (3, 3), activation='relu', padding='same')(x)\n",
        "  x = BatchNormalization()(x)\n",
        "  x = MaxPooling2D((2, 2))(x)\n",
        "  x = Conv2D(64, (3, 3), activation='relu', padding='same')(x)\n",
        "  x = BatchNormalization()(x)\n",
        "  x = Conv2D(64, (3, 3), activation='relu', padding='same')(x)\n",
        "  x = BatchNormalization()(x)\n",
        "  x = MaxPooling2D((2, 2))(x)\n",
        "  x = Conv2D(128, (3, 3), activation='relu', padding='same')(x)\n",
        "  x = BatchNormalization()(x)\n",
        "  x = Conv2D(128, (3, 3), activation='relu', padding='same')(x)\n",
        "  x = BatchNormalization()(x)\n",
        "  x = MaxPooling2D((2, 2))(x)\n",
        "\n",
        "  x = Flatten()(x)\n",
        "  x = Dropout(0.2)(x)\n",
        "  x = Dense(1024, activation='relu')(x)\n",
        "  x = Dropout(0.2)(x)\n",
        "  x = Dense(K, activation='softmax')(x)\n",
        "\n",
        "  model = Model(i, x)\n",
        "  return model"
      ],
      "execution_count": 0,
      "outputs": []
    },
    {
      "cell_type": "code",
      "metadata": {
        "id": "NbavraX0_RZD",
        "colab_type": "code",
        "colab": {
          "base_uri": "https://localhost:8080/",
          "height": 34
        },
        "outputId": "3c5f535b-82e2-4922-86e9-1ffa2bd6895f"
      },
      "source": [
        "strategy = tf.distribute.MirroredStrategy()"
      ],
      "execution_count": 6,
      "outputs": [
        {
          "output_type": "stream",
          "text": [
            "INFO:tensorflow:Using MirroredStrategy with devices ('/job:localhost/replica:0/task:0/device:GPU:0',)\n"
          ],
          "name": "stdout"
        }
      ]
    },
    {
      "cell_type": "code",
      "metadata": {
        "id": "__V2kcB7_dT0",
        "colab_type": "code",
        "colab": {
          "base_uri": "https://localhost:8080/",
          "height": 34
        },
        "outputId": "af9b2a9a-5542-4065-9af1-49fb702ce299"
      },
      "source": [
        "print(f'Number of devices: {strategy.num_replicas_in_sync}')"
      ],
      "execution_count": 7,
      "outputs": [
        {
          "output_type": "stream",
          "text": [
            "Number of devices: 1\n"
          ],
          "name": "stdout"
        }
      ]
    },
    {
      "cell_type": "code",
      "metadata": {
        "id": "8kVyNYkx_fYg",
        "colab_type": "code",
        "colab": {
          "base_uri": "https://localhost:8080/",
          "height": 187
        },
        "outputId": "251b6ea1-5118-4a1b-92e4-47abb2ee2592"
      },
      "source": [
        "with strategy.scope():\n",
        "  model = create_model()\n",
        "\n",
        "  model.compile(loss='sparse_categorical_crossentropy',\n",
        "                optimizer='adam',\n",
        "                metrics=['accuracy'])"
      ],
      "execution_count": 8,
      "outputs": [
        {
          "output_type": "stream",
          "text": [
            "INFO:tensorflow:Reduce to /job:localhost/replica:0/task:0/device:CPU:0 then broadcast to ('/job:localhost/replica:0/task:0/device:CPU:0',).\n",
            "INFO:tensorflow:Reduce to /job:localhost/replica:0/task:0/device:CPU:0 then broadcast to ('/job:localhost/replica:0/task:0/device:CPU:0',).\n",
            "INFO:tensorflow:Reduce to /job:localhost/replica:0/task:0/device:CPU:0 then broadcast to ('/job:localhost/replica:0/task:0/device:CPU:0',).\n",
            "INFO:tensorflow:Reduce to /job:localhost/replica:0/task:0/device:CPU:0 then broadcast to ('/job:localhost/replica:0/task:0/device:CPU:0',).\n",
            "INFO:tensorflow:Reduce to /job:localhost/replica:0/task:0/device:CPU:0 then broadcast to ('/job:localhost/replica:0/task:0/device:CPU:0',).\n",
            "INFO:tensorflow:Reduce to /job:localhost/replica:0/task:0/device:CPU:0 then broadcast to ('/job:localhost/replica:0/task:0/device:CPU:0',).\n",
            "INFO:tensorflow:Reduce to /job:localhost/replica:0/task:0/device:CPU:0 then broadcast to ('/job:localhost/replica:0/task:0/device:CPU:0',).\n",
            "INFO:tensorflow:Reduce to /job:localhost/replica:0/task:0/device:CPU:0 then broadcast to ('/job:localhost/replica:0/task:0/device:CPU:0',).\n",
            "INFO:tensorflow:Reduce to /job:localhost/replica:0/task:0/device:CPU:0 then broadcast to ('/job:localhost/replica:0/task:0/device:CPU:0',).\n",
            "INFO:tensorflow:Reduce to /job:localhost/replica:0/task:0/device:CPU:0 then broadcast to ('/job:localhost/replica:0/task:0/device:CPU:0',).\n"
          ],
          "name": "stdout"
        }
      ]
    },
    {
      "cell_type": "code",
      "metadata": {
        "id": "eZoPDHDj_fa9",
        "colab_type": "code",
        "colab": {
          "base_uri": "https://localhost:8080/",
          "height": 527
        },
        "outputId": "f5d2d5c5-3db5-4514-b086-aec47cd333c9"
      },
      "source": [
        "r = model.fit(x_train, y_train, validation_data=(x_test, y_test), epochs=15)"
      ],
      "execution_count": 12,
      "outputs": [
        {
          "output_type": "stream",
          "text": [
            "Epoch 1/15\n",
            "1563/1563 [==============================] - 15s 10ms/step - loss: 0.4265 - accuracy: 0.8533 - val_loss: 0.6553 - val_accuracy: 0.7838\n",
            "Epoch 2/15\n",
            "1563/1563 [==============================] - 15s 10ms/step - loss: 0.3575 - accuracy: 0.8758 - val_loss: 0.6445 - val_accuracy: 0.7950\n",
            "Epoch 3/15\n",
            "1563/1563 [==============================] - 15s 10ms/step - loss: 0.2991 - accuracy: 0.8968 - val_loss: 0.6292 - val_accuracy: 0.8137\n",
            "Epoch 4/15\n",
            "1563/1563 [==============================] - 15s 10ms/step - loss: 0.2632 - accuracy: 0.9098 - val_loss: 0.6260 - val_accuracy: 0.8199\n",
            "Epoch 5/15\n",
            "1563/1563 [==============================] - 15s 10ms/step - loss: 0.2202 - accuracy: 0.9231 - val_loss: 0.7620 - val_accuracy: 0.7966\n",
            "Epoch 6/15\n",
            "1563/1563 [==============================] - 15s 10ms/step - loss: 0.2027 - accuracy: 0.9305 - val_loss: 0.6899 - val_accuracy: 0.8163\n",
            "Epoch 7/15\n",
            "1563/1563 [==============================] - 15s 10ms/step - loss: 0.1709 - accuracy: 0.9404 - val_loss: 0.7205 - val_accuracy: 0.8159\n",
            "Epoch 8/15\n",
            "1563/1563 [==============================] - 15s 10ms/step - loss: 0.1607 - accuracy: 0.9465 - val_loss: 0.7185 - val_accuracy: 0.8154\n",
            "Epoch 9/15\n",
            "1563/1563 [==============================] - 15s 10ms/step - loss: 0.1459 - accuracy: 0.9509 - val_loss: 0.6845 - val_accuracy: 0.8310\n",
            "Epoch 10/15\n",
            "1563/1563 [==============================] - 15s 10ms/step - loss: 0.1345 - accuracy: 0.9537 - val_loss: 0.7568 - val_accuracy: 0.8253\n",
            "Epoch 11/15\n",
            "1563/1563 [==============================] - 15s 10ms/step - loss: 0.1222 - accuracy: 0.9587 - val_loss: 0.7136 - val_accuracy: 0.8251\n",
            "Epoch 12/15\n",
            "1563/1563 [==============================] - 15s 10ms/step - loss: 0.1190 - accuracy: 0.9608 - val_loss: 0.7601 - val_accuracy: 0.8250\n",
            "Epoch 13/15\n",
            "1563/1563 [==============================] - 15s 10ms/step - loss: 0.1055 - accuracy: 0.9646 - val_loss: 0.7611 - val_accuracy: 0.8280\n",
            "Epoch 14/15\n",
            "1563/1563 [==============================] - 15s 10ms/step - loss: 0.1028 - accuracy: 0.9670 - val_loss: 0.8125 - val_accuracy: 0.8172\n",
            "Epoch 15/15\n",
            "1563/1563 [==============================] - 15s 10ms/step - loss: 0.0943 - accuracy: 0.9685 - val_loss: 0.8066 - val_accuracy: 0.8205\n"
          ],
          "name": "stdout"
        }
      ]
    },
    {
      "cell_type": "code",
      "metadata": {
        "id": "fZKBjaCe_feD",
        "colab_type": "code",
        "colab": {
          "base_uri": "https://localhost:8080/",
          "height": 34
        },
        "outputId": "9e418017-bb3f-462e-9ad7-f70f94723907"
      },
      "source": [
        "50000/391"
      ],
      "execution_count": 10,
      "outputs": [
        {
          "output_type": "execute_result",
          "data": {
            "text/plain": [
              "127.8772378516624"
            ]
          },
          "metadata": {
            "tags": []
          },
          "execution_count": 10
        }
      ]
    },
    {
      "cell_type": "code",
      "metadata": {
        "id": "ZLiV-_lt_dXK",
        "colab_type": "code",
        "colab": {
          "base_uri": "https://localhost:8080/",
          "height": 34
        },
        "outputId": "e174664d-31e4-4950-d349-217592e3a9b6"
      },
      "source": [
        "10000/79"
      ],
      "execution_count": 11,
      "outputs": [
        {
          "output_type": "execute_result",
          "data": {
            "text/plain": [
              "126.58227848101266"
            ]
          },
          "metadata": {
            "tags": []
          },
          "execution_count": 11
        }
      ]
    },
    {
      "cell_type": "code",
      "metadata": {
        "id": "EOrO7PoWDtLi",
        "colab_type": "code",
        "colab": {
          "base_uri": "https://localhost:8080/",
          "height": 187
        },
        "outputId": "2a740ddd-cd74-40a9-8d32-3c65931102dc"
      },
      "source": [
        "# Compare this to non-distributed training\n",
        "model2 = create_model()\n",
        "model2.compile(loss='sparse_categorical_crossentropy',\n",
        "                optimizer='adam',\n",
        "                metrics=['accuracy'])\n",
        "r = model2.fit(x_train, y_train, validation_data=(x_test, y_test), epochs=5)"
      ],
      "execution_count": 13,
      "outputs": [
        {
          "output_type": "stream",
          "text": [
            "Epoch 1/5\n",
            "1563/1563 [==============================] - 11s 7ms/step - loss: 1.2995 - accuracy: 0.5534 - val_loss: 1.0762 - val_accuracy: 0.6356\n",
            "Epoch 2/5\n",
            "1563/1563 [==============================] - 11s 7ms/step - loss: 0.8431 - accuracy: 0.7051 - val_loss: 0.9222 - val_accuracy: 0.6885\n",
            "Epoch 3/5\n",
            "1563/1563 [==============================] - 11s 7ms/step - loss: 0.6918 - accuracy: 0.7623 - val_loss: 0.7121 - val_accuracy: 0.7545\n",
            "Epoch 4/5\n",
            "1563/1563 [==============================] - 11s 7ms/step - loss: 0.5900 - accuracy: 0.7980 - val_loss: 0.6989 - val_accuracy: 0.7691\n",
            "Epoch 5/5\n",
            "1563/1563 [==============================] - 11s 7ms/step - loss: 0.4928 - accuracy: 0.8298 - val_loss: 0.6311 - val_accuracy: 0.7972\n"
          ],
          "name": "stdout"
        }
      ]
    }
  ]
}