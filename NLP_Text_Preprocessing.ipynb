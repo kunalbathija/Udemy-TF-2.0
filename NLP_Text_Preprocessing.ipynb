{
  "nbformat": 4,
  "nbformat_minor": 0,
  "metadata": {
    "colab": {
      "name": "NLP Text Preprocessing.ipynb",
      "provenance": [],
      "authorship_tag": "ABX9TyMtEw7Ux/kzZQmLwjlUaEWI",
      "include_colab_link": true
    },
    "kernelspec": {
      "name": "python3",
      "display_name": "Python 3"
    }
  },
  "cells": [
    {
      "cell_type": "markdown",
      "metadata": {
        "id": "view-in-github",
        "colab_type": "text"
      },
      "source": [
        "<a href=\"https://colab.research.google.com/github/kunalbathija/Udemy-TF-2.0/blob/master/NLP_Text_Preprocessing.ipynb\" target=\"_parent\"><img src=\"https://colab.research.google.com/assets/colab-badge.svg\" alt=\"Open In Colab\"/></a>"
      ]
    },
    {
      "cell_type": "code",
      "metadata": {
        "id": "ooM1fwCTcRvv",
        "colab_type": "code",
        "colab": {
          "base_uri": "https://localhost:8080/",
          "height": 34
        },
        "outputId": "049502e5-20f1-4016-cf48-b5b21f2336be"
      },
      "source": [
        "import tensorflow as tf\n",
        "print(tf.__version__)"
      ],
      "execution_count": 1,
      "outputs": [
        {
          "output_type": "stream",
          "text": [
            "2.2.0-rc4\n"
          ],
          "name": "stdout"
        }
      ]
    },
    {
      "cell_type": "code",
      "metadata": {
        "id": "5XGnGMbTcWPE",
        "colab_type": "code",
        "colab": {}
      },
      "source": [
        "from tensorflow.keras.preprocessing.text import Tokenizer\n",
        "from tensorflow.keras.preprocessing.sequence import pad_sequences"
      ],
      "execution_count": 0,
      "outputs": []
    },
    {
      "cell_type": "code",
      "metadata": {
        "id": "it9bZkkIcWT-",
        "colab_type": "code",
        "colab": {}
      },
      "source": [
        "# Just a simple test\n",
        "sentences = [\n",
        "    \"I like eggs and ham.\",\n",
        "    \"I love chocolate and bunnies.\",\n",
        "    \"I hate onions.\"\n",
        "]"
      ],
      "execution_count": 0,
      "outputs": []
    },
    {
      "cell_type": "code",
      "metadata": {
        "id": "YGgEgw_bcWWY",
        "colab_type": "code",
        "colab": {}
      },
      "source": [
        "MAX_VOCAB_SIZE = 20000\n",
        "tokenizer = Tokenizer(num_words=MAX_VOCAB_SIZE)\n",
        "tokenizer.fit_on_texts(sentences)\n",
        "sequences = tokenizer.texts_to_sequences(sentences)"
      ],
      "execution_count": 0,
      "outputs": []
    },
    {
      "cell_type": "code",
      "metadata": {
        "id": "10qzq-LvcWY9",
        "colab_type": "code",
        "colab": {
          "base_uri": "https://localhost:8080/",
          "height": 34
        },
        "outputId": "69519183-e8ff-4b0c-aa88-fa7efe905439"
      },
      "source": [
        "print(sequences)"
      ],
      "execution_count": 5,
      "outputs": [
        {
          "output_type": "stream",
          "text": [
            "[[1, 3, 4, 2, 5], [1, 6, 7, 2, 8], [1, 9, 10]]\n"
          ],
          "name": "stdout"
        }
      ]
    },
    {
      "cell_type": "code",
      "metadata": {
        "id": "qwGG0m83cWbk",
        "colab_type": "code",
        "colab": {
          "base_uri": "https://localhost:8080/",
          "height": 187
        },
        "outputId": "c1af4c9c-be20-473f-e013-4d514b4a133a"
      },
      "source": [
        "# How to get the word to index mapping?\n",
        "tokenizer.word_index"
      ],
      "execution_count": 6,
      "outputs": [
        {
          "output_type": "execute_result",
          "data": {
            "text/plain": [
              "{'and': 2,\n",
              " 'bunnies': 8,\n",
              " 'chocolate': 7,\n",
              " 'eggs': 4,\n",
              " 'ham': 5,\n",
              " 'hate': 9,\n",
              " 'i': 1,\n",
              " 'like': 3,\n",
              " 'love': 6,\n",
              " 'onions': 10}"
            ]
          },
          "metadata": {
            "tags": []
          },
          "execution_count": 6
        }
      ]
    },
    {
      "cell_type": "code",
      "metadata": {
        "id": "nCeQOmwkcWd7",
        "colab_type": "code",
        "colab": {
          "base_uri": "https://localhost:8080/",
          "height": 68
        },
        "outputId": "3269a7c5-c7e4-46a5-d952-78e305ce0e25"
      },
      "source": [
        "data = pad_sequences(sequences)\n",
        "print(data)"
      ],
      "execution_count": 7,
      "outputs": [
        {
          "output_type": "stream",
          "text": [
            "[[ 1  3  4  2  5]\n",
            " [ 1  6  7  2  8]\n",
            " [ 0  0  1  9 10]]\n"
          ],
          "name": "stdout"
        }
      ]
    },
    {
      "cell_type": "code",
      "metadata": {
        "id": "MCSMF9rNcWgo",
        "colab_type": "code",
        "colab": {
          "base_uri": "https://localhost:8080/",
          "height": 68
        },
        "outputId": "8563b7f9-78d1-49d9-b179-de70e904a8d9"
      },
      "source": [
        "MAX_SEQUENCE_LENGTH = 5\n",
        "data = pad_sequences(sequences, maxlen=MAX_SEQUENCE_LENGTH)\n",
        "print(data)"
      ],
      "execution_count": 8,
      "outputs": [
        {
          "output_type": "stream",
          "text": [
            "[[ 1  3  4  2  5]\n",
            " [ 1  6  7  2  8]\n",
            " [ 0  0  1  9 10]]\n"
          ],
          "name": "stdout"
        }
      ]
    },
    {
      "cell_type": "code",
      "metadata": {
        "id": "Yan9G8blcWjt",
        "colab_type": "code",
        "colab": {
          "base_uri": "https://localhost:8080/",
          "height": 68
        },
        "outputId": "8be9ae18-82a4-4f25-9d94-4190d8c2b230"
      },
      "source": [
        "data = pad_sequences(sequences, maxlen=MAX_SEQUENCE_LENGTH, padding='post')\n",
        "print(data)"
      ],
      "execution_count": 9,
      "outputs": [
        {
          "output_type": "stream",
          "text": [
            "[[ 1  3  4  2  5]\n",
            " [ 1  6  7  2  8]\n",
            " [ 1  9 10  0  0]]\n"
          ],
          "name": "stdout"
        }
      ]
    },
    {
      "cell_type": "code",
      "metadata": {
        "id": "3V0mMpnecWm3",
        "colab_type": "code",
        "colab": {
          "base_uri": "https://localhost:8080/",
          "height": 68
        },
        "outputId": "f98ec891-614f-47dc-8a4e-6eeeddb6aa0e"
      },
      "source": [
        "# too much padding\n",
        "data = pad_sequences(sequences, maxlen=6)\n",
        "print(data)"
      ],
      "execution_count": 10,
      "outputs": [
        {
          "output_type": "stream",
          "text": [
            "[[ 0  1  3  4  2  5]\n",
            " [ 0  1  6  7  2  8]\n",
            " [ 0  0  0  1  9 10]]\n"
          ],
          "name": "stdout"
        }
      ]
    },
    {
      "cell_type": "code",
      "metadata": {
        "id": "Nhpkc5wJdKOj",
        "colab_type": "code",
        "colab": {
          "base_uri": "https://localhost:8080/",
          "height": 68
        },
        "outputId": "4dc41cb6-07d5-4e8f-bdac-1ba1c7303b37"
      },
      "source": [
        "# truncation\n",
        "data = pad_sequences(sequences, maxlen=4)\n",
        "print(data)"
      ],
      "execution_count": 11,
      "outputs": [
        {
          "output_type": "stream",
          "text": [
            "[[ 3  4  2  5]\n",
            " [ 6  7  2  8]\n",
            " [ 0  1  9 10]]\n"
          ],
          "name": "stdout"
        }
      ]
    },
    {
      "cell_type": "code",
      "metadata": {
        "id": "vXTlMxqWdKK9",
        "colab_type": "code",
        "colab": {
          "base_uri": "https://localhost:8080/",
          "height": 68
        },
        "outputId": "dbe01cc2-3496-4533-a9bd-c00033e3650d"
      },
      "source": [
        "data = pad_sequences(sequences, maxlen=4, truncating='post')\n",
        "print(data)"
      ],
      "execution_count": 12,
      "outputs": [
        {
          "output_type": "stream",
          "text": [
            "[[ 1  3  4  2]\n",
            " [ 1  6  7  2]\n",
            " [ 0  1  9 10]]\n"
          ],
          "name": "stdout"
        }
      ]
    }
  ]
}